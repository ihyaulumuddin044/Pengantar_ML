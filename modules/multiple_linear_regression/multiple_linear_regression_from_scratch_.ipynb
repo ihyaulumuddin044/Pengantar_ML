{
  "nbformat": 4,
  "nbformat_minor": 0,
  "metadata": {
    "colab": {
      "provenance": [],
      "authorship_tag": "ABX9TyOvL9OpZJgVDDHpzYcEZpSD",
      "include_colab_link": true
    },
    "kernelspec": {
      "name": "python3",
      "display_name": "Python 3"
    },
    "language_info": {
      "name": "python"
    }
  },
  "cells": [
    {
      "cell_type": "markdown",
      "metadata": {
        "id": "view-in-github",
        "colab_type": "text"
      },
      "source": [
        "<a href=\"https://colab.research.google.com/github/ihyaulumuddin044/Pengantar_ML/blob/main/modules/multiple_linear_regression/multiple_linear_regression_from_scratch_.ipynb\" target=\"_parent\"><img src=\"https://colab.research.google.com/assets/colab-badge.svg\" alt=\"Open In Colab\"/></a>"
      ]
    },
    {
      "cell_type": "code",
      "execution_count": 1,
      "metadata": {
        "id": "7CsYfkNjhK1P"
      },
      "outputs": [],
      "source": [
        "import numpy as np\n",
        "import pandas as pd\n",
        "import matplotlib.pyplot as plt\n",
        "import seaborn as sns\n",
        "plt.style.use('fivethirtyeight')"
      ]
    },
    {
      "cell_type": "markdown",
      "source": [
        "# Regresi linier berganda\n",
        "Mengapa Regresi Linier Berganda?\n",
        "Regresi linier sederhana mencoba memprediksi satu variabel dependen (Y) berdasarkan satu variabel independen (X). Tapi dalam kenyataannya, banyak hal dipengaruhi oleh lebih dari satu faktor. Di sinilah regresi linier berganda masuk. Ia memungkinkan kita memprediksi variabel dependen berdasarkan dua atau lebih variabel independen.\n",
        "\n",
        "Contoh: Kita ingin memprediksi harga rumah. Harga rumah tidak hanya ditentukan oleh luasnya, tapi juga jumlah kamar tidur, lokasi, fasilitas terdekat, dan lain-lain.\n",
        "\n"
      ],
      "metadata": {
        "id": "n6RqB8JZhvYb"
      }
    },
    {
      "cell_type": "code",
      "source": [
        "# Membuat data fiktif\n",
        "data = {\n",
        "    'Jam_Belajar': [2, 3, 4, 5, 6, 7, 8, 9, 10, 2, 3, 4, 5, 6, 7, 8, 9, 10, 1, 2],\n",
        "    'Kehadiran_Kelas': [8, 9, 7, 10, 8, 9, 10, 9, 8, 7, 8, 9, 10, 7, 8, 9, 10, 9, 6, 7],\n",
        "    'Nilai_Ujian': [60, 65, 70, 75, 80, 85, 90, 92, 95, 55, 60, 68, 73, 78, 82, 88, 93, 96, 50, 58]\n",
        "}\n",
        "\n",
        "df = pd.DataFrame(data)\n",
        "print(\"Dataset:\\n\", df.head())"
      ],
      "metadata": {
        "colab": {
          "base_uri": "https://localhost:8080/"
        },
        "id": "oTtogfNvh0Th",
        "outputId": "a9d7cb1b-8d55-4a7e-9ea3-5b71a270b9fd"
      },
      "execution_count": 2,
      "outputs": [
        {
          "output_type": "stream",
          "name": "stdout",
          "text": [
            "Dataset:\n",
            "    Jam_Belajar  Kehadiran_Kelas  Nilai_Ujian\n",
            "0            2                8           60\n",
            "1            3                9           65\n",
            "2            4                7           70\n",
            "3            5               10           75\n",
            "4            6                8           80\n"
          ]
        }
      ]
    },
    {
      "cell_type": "markdown",
      "source": [
        "## Membangun Matriks X dan Vektor Y (NumPy)"
      ],
      "metadata": {
        "id": "X65MUEijnBMb"
      }
    },
    {
      "cell_type": "code",
      "source": [
        "# Variabel dependen/target (Y)\n",
        "Y = df['Nilai_Ujian'].values.reshape(-1,1)\n",
        "# print(\"Variabel Dependen (Y):\\n\", Y)\n",
        "# print(\"Variabel Dependen (Y):\\n\", Y.shape)\n",
        "\n",
        "# Variabel independen (X)\n",
        "X_raw = df[['Kehadiran_Kelas','Jam_Belajar']].values\n",
        "# print(\"Variabel Independen (X):\\n\", X)\n",
        "# print(\"Variabel Independen (X):\\n\", X.shape)\n",
        "\n",
        "# Menambahkan kolom konstanta (intercept) ke matriks X\n",
        "# np.ones((X_raw.shape[0], 1)) membuat kolom berisi angka 1 dengan jumlah baris yang sama dengan X_raw\n",
        "X = np.concatenate((np.ones((X_raw.shape[0], 1)), X_raw), axis=1)\n",
        "\n",
        "print(\"\\nMatriks X dengan kolom konstanta (5 baris pertama):\\n\", X[0:5])\n",
        "print(\"\\nVektor Y (5 baris pertama):\\n\", Y[0:5])"
      ],
      "metadata": {
        "colab": {
          "base_uri": "https://localhost:8080/"
        },
        "id": "Sz4Y6ieViQUL",
        "outputId": "e8cf158b-84d3-4a96-9069-0ca00bc0f070"
      },
      "execution_count": 3,
      "outputs": [
        {
          "output_type": "stream",
          "name": "stdout",
          "text": [
            "\n",
            "Matriks X dengan kolom konstanta (5 baris pertama):\n",
            " [[ 1.  8.  2.]\n",
            " [ 1.  9.  3.]\n",
            " [ 1.  7.  4.]\n",
            " [ 1. 10.  5.]\n",
            " [ 1.  8.  6.]]\n",
            "\n",
            "Vektor Y (5 baris pertama):\n",
            " [[60]\n",
            " [65]\n",
            " [70]\n",
            " [75]\n",
            " [80]]\n"
          ]
        }
      ]
    },
    {
      "cell_type": "markdown",
      "source": [
        "## Menghitung Koefisien Regresi (β) (NumPy)\n",
        "\n",
        "Sekarang kita akan menerapkan rumus OLS: β"
      ],
      "metadata": {
        "id": "d7KbMs1tnEG8"
      }
    },
    {
      "cell_type": "code",
      "source": [
        "# Menghitung (X^T X)\n",
        "XTX = np.dot(X.T, X)\n",
        "print(\"Matriks X^T X:\\n\", XTX)\n",
        "\n",
        "# Invers dari XTX\n",
        "XTX_inv= np.linalg.inv(XTX)\n",
        "print(\"\\nInvers dari Matriks X^T X:\\n\", XTX_inv)\n",
        "\n",
        "# Menghitung (X^T Y)\n",
        "XTY = np.dot(X.T, Y)\n",
        "print(\"\\nMatriks X^T Y:\\n\", XTY)\n",
        "\n",
        "# Menghitung koefisien beta\n",
        "betas = np.dot(XTX_inv, XTY)\n",
        "\n",
        "print(\"\\nKoefisien Regresi (beta):\\n\", betas)\n",
        "\n",
        "# Ekstrak nilai koefisien\n",
        "intercept = betas[0][0]\n",
        "coef_jam_belajar = betas[1][0]\n",
        "coef_kehadiran_kelas = betas[2][0]\n",
        "\n",
        "print(f\"\\nIntercept (beta_0): {intercept:.2f}\")\n",
        "print(f\"Koefisien Jam Belajar (beta_1): {coef_jam_belajar:.2f}\")\n",
        "print(f\"Koefisien Kehadiran Kelas (beta_2): {coef_kehadiran_kelas:.2f}\")"
      ],
      "metadata": {
        "colab": {
          "base_uri": "https://localhost:8080/"
        },
        "id": "_eYQYMxbnPFP",
        "outputId": "8b724a14-4297-44c9-e8cc-44e7b6578a1f"
      },
      "execution_count": 4,
      "outputs": [
        {
          "output_type": "stream",
          "name": "stdout",
          "text": [
            "Matriks X^T X:\n",
            " [[  20.  168.  111.]\n",
            " [ 168. 1438.  967.]\n",
            " [ 111.  967.  773.]]\n",
            "\n",
            "Invers dari Matriks X^T X:\n",
            " [[ 2.93252135 -0.37431458  0.04715696]\n",
            " [-0.37431458  0.05215845 -0.01149845]\n",
            " [ 0.04715696 -0.01149845  0.00890632]]\n",
            "\n",
            "Matriks X^T Y:\n",
            " [[ 1513.]\n",
            " [12899.]\n",
            " [ 9179.]]\n",
            "\n",
            "Koefisien Regresi (beta):\n",
            " [[41.47475989]\n",
            " [ 0.90960752]\n",
            " [ 4.78099764]]\n",
            "\n",
            "Intercept (beta_0): 41.47\n",
            "Koefisien Jam Belajar (beta_1): 0.91\n",
            "Koefisien Kehadiran Kelas (beta_2): 4.78\n"
          ]
        }
      ]
    },
    {
      "cell_type": "markdown",
      "source": [
        "## Setelah kita mendapatkan koefisien, kita bisa menggunakannya untuk memprediksi nilai ujian baru."
      ],
      "metadata": {
        "id": "R3VScC9M4YAL"
      }
    },
    {
      "cell_type": "code",
      "source": [
        "# Contoh prediksi:\n",
        "# Misal seorang siswa belajar 6 jam dan memiliki kehadiran kelas 9\n",
        "jam_belajar_baru = 6\n",
        "kehadiran_kelas_baru = 9\n",
        "\n",
        "# Buat vektor fitur untuk prediksi (jangan lupa konstanta 1)\n",
        "data_baru = np.array([1, jam_belajar_baru, kehadiran_kelas_baru])\n",
        "print(data_baru)\n",
        "\n",
        "# Hitung prediksi\n",
        "prediksi_nilai = np.dot(data_baru, betas)\n",
        "\n",
        "print(f\"\\nPrediksi Nilai Ujian untuk 6 jam belajar dan 9 kehadiran kelas: {prediksi_nilai[0]:.2f}\")"
      ],
      "metadata": {
        "colab": {
          "base_uri": "https://localhost:8080/"
        },
        "id": "wIOxworayIFd",
        "outputId": "c423c1ff-b4ea-4a3e-d6e1-2d5ab8f3964a"
      },
      "execution_count": 5,
      "outputs": [
        {
          "output_type": "stream",
          "name": "stdout",
          "text": [
            "[1 6 9]\n",
            "\n",
            "Prediksi Nilai Ujian untuk 6 jam belajar dan 9 kehadiran kelas: 89.96\n"
          ]
        }
      ]
    },
    {
      "cell_type": "markdown",
      "source": [
        "## Evaluasi Model (Optional, tapi Penting)"
      ],
      "metadata": {
        "id": "KXhz3Kr14puy"
      }
    },
    {
      "cell_type": "code",
      "source": [
        "# Prediksi nilai untuk data yang ada\n",
        "Y_pred = np.dot(X, betas)\n",
        "\n",
        "# Menghitung Total Sum of Squares (SST)\n",
        "# SST = sum((Y_i - Y_mean)^2)\n",
        "Y_mean = np.mean(Y)\n",
        "SST = np.sum((Y - Y_mean)**2)\n",
        "\n",
        "# Menghitung Residual Sum of Squares (SSR)\n",
        "# SSR = sum((Y_i - Y_pred_i)^2)\n",
        "SSR = np.sum((Y - Y_pred)**2)\n",
        "\n",
        "# Menghitung R-squared\n",
        "R_squared = 1 - (SSR / SST)\n",
        "\n",
        "print(f\"\\nR-squared: {R_squared:.4f}\")"
      ],
      "metadata": {
        "colab": {
          "base_uri": "https://localhost:8080/"
        },
        "id": "d8wXnVjJ4rpt",
        "outputId": "f36c4246-264c-4362-d4e1-cee34ffbcc8e"
      },
      "execution_count": 6,
      "outputs": [
        {
          "output_type": "stream",
          "name": "stdout",
          "text": [
            "\n",
            "R-squared: 0.9864\n"
          ]
        }
      ]
    },
    {
      "cell_type": "markdown",
      "source": [
        "## Dengan menggunkan Fungsi"
      ],
      "metadata": {
        "id": "smOgiKff5evK"
      }
    },
    {
      "cell_type": "code",
      "source": [
        "import pandas as pd\n",
        "import numpy as np\n",
        "\n",
        "def linear_regression_predict(X_train, y_train, X_new):\n",
        "    \"\"\"\n",
        "    Melakukan regresi linier berganda dan membuat prediksi.\n",
        "\n",
        "    Args:\n",
        "        X_train (np.ndarray atau pd.DataFrame): Variabel independen untuk training,\n",
        "                                                 tanpa kolom konstanta (intercept).\n",
        "        y_train (np.ndarray atau pd.Series): Variabel dependen untuk training.\n",
        "        X_new (np.ndarray atau pd.DataFrame): Variabel independen untuk prediksi,\n",
        "                                                tanpa kolom konstanta.\n",
        "\n",
        "    Returns:\n",
        "        tuple: (betas, predictions)\n",
        "               betas (np.ndarray): Koefisien regresi, termasuk intercept.\n",
        "               predictions (np.ndarray): Prediksi nilai untuk X_new.\n",
        "    \"\"\"\n",
        "    # Pastikan y_train adalah kolom vektor\n",
        "    if isinstance(y_train, pd.Series):\n",
        "        y_train = y_train.values.reshape(-1, 1)\n",
        "    elif isinstance(y_train, np.ndarray) and y_train.ndim == 1:\n",
        "        y_train = y_train.reshape(-1, 1)\n",
        "\n",
        "    # Pastikan X_train adalah numpy array\n",
        "    if isinstance(X_train, pd.DataFrame):\n",
        "        X_train = X_train.values\n",
        "    if isinstance(X_new, pd.DataFrame):\n",
        "        X_new = X_new.values\n",
        "\n",
        "    # Tambahkan kolom konstanta (intercept) ke X_train\n",
        "    X_train_biased = np.concatenate((np.ones((X_train.shape[0], 1)), X_train), axis=1)\n",
        "\n",
        "    # Hitung koefisien beta menggunakan rumus OLS\n",
        "    try:\n",
        "        XTX = np.dot(X_train_biased.T, X_train_biased)\n",
        "        XTX_inv = np.linalg.inv(XTX)\n",
        "        XTY = np.dot(X_train_biased.T, y_train)\n",
        "        betas = np.dot(XTX_inv, XTY)\n",
        "    except np.linalg.LinAlgError:\n",
        "        print(\"Peringatan: Matriks tidak dapat di-inverse. Mungkin ada multikolinearitas.\")\n",
        "        return None, None # Atau tangani error dengan cara lain\n",
        "\n",
        "    # Tambahkan kolom konstanta ke X_new untuk prediksi\n",
        "    X_new_biased = np.concatenate((np.ones((X_new.shape[0], 1)), X_new), axis=1)\n",
        "\n",
        "    # Buat prediksi\n",
        "    predictions = np.dot(X_new_biased, betas)\n",
        "\n",
        "    return betas, predictions\n",
        "\n",
        "# --- Contoh Penggunaan Fungsi ---\n",
        "# Data fiktif seperti sebelumnya\n",
        "data = {\n",
        "    'Jam_Belajar': [2, 3, 4, 5, 6, 7, 8, 9, 10, 2, 3, 4, 5, 6, 7, 8, 9, 10, 1, 2],\n",
        "    'Kehadiran_Kelas': [8, 9, 7, 10, 8, 9, 10, 9, 8, 7, 8, 9, 10, 7, 8, 9, 10, 9, 6, 7],\n",
        "    'Nilai_Ujian': [60, 65, 70, 75, 80, 85, 90, 92, 95, 55, 60, 68, 73, 78, 82, 88, 93, 96, 50, 58]\n",
        "}\n",
        "df = pd.DataFrame(data)\n",
        "\n",
        "# Siapkan data training\n",
        "X_train_data = df[['Jam_Belajar', 'Kehadiran_Kelas']]\n",
        "y_train_data = df['Nilai_Ujian']\n",
        "\n",
        "# Data baru untuk prediksi\n",
        "X_predict_data = pd.DataFrame({\n",
        "    'Jam_Belajar': [6, 7.5, 3],\n",
        "    'Kehadiran_Kelas': [9, 8, 7]\n",
        "})\n",
        "\n",
        "# Panggil fungsi\n",
        "betas_func, predictions_func = linear_regression_predict(X_train_data, y_train_data, X_predict_data)\n",
        "\n",
        "if betas_func is not None:\n",
        "    print(\"\\n--- Penggunaan sebagai Fungsi ---\")\n",
        "    print(\"Koefisien Regresi (Intercept, Jam_Belajar, Kehadiran_Kelas):\\n\", betas_func.flatten())\n",
        "    print(\"Prediksi untuk data baru:\\n\", predictions_func.flatten())\n",
        "\n",
        "    # Interpretasi\n",
        "    print(f\"\\nInterpretasi:\")\n",
        "    print(f\"Intercept: {betas_func[0][0]:.2f}\")\n",
        "    print(f\"Koefisien Jam Belajar: {betas_func[1][0]:.2f}\")\n",
        "    print(f\"Koefisien Kehadiran Kelas: {betas_func[2][0]:.2f}\")"
      ],
      "metadata": {
        "colab": {
          "base_uri": "https://localhost:8080/"
        },
        "id": "kxhghIDH5eh1",
        "outputId": "cbaecb32-d0eb-48b9-9303-a8ff34e55583"
      },
      "execution_count": 7,
      "outputs": [
        {
          "output_type": "stream",
          "name": "stdout",
          "text": [
            "\n",
            "--- Penggunaan sebagai Fungsi ---\n",
            "Koefisien Regresi (Intercept, Jam_Belajar, Kehadiran_Kelas):\n",
            " [41.47475989  4.78099764  0.90960752]\n",
            "Prediksi untuk data baru:\n",
            " [78.34721345 84.60910239 62.18500548]\n",
            "\n",
            "Interpretasi:\n",
            "Intercept: 41.47\n",
            "Koefisien Jam Belajar: 4.78\n",
            "Koefisien Kehadiran Kelas: 0.91\n"
          ]
        }
      ]
    },
    {
      "cell_type": "code",
      "source": [
        "invers_matrix = pd.DataFrame({\n",
        "    \"A\": [1,2,3]\n",
        "    ,\"B\": [4,5,1]\n",
        "    ,\"C\": [7,8,2]\n",
        "})\n",
        "\n",
        "transposed_matrix = invers_matrix.transpose()\n",
        "print(transposed_matrix)\n",
        "\n",
        "invers_matrix_np = np.linalg.inv(invers_matrix)\n",
        "print(invers_matrix_np)\n"
      ],
      "metadata": {
        "colab": {
          "base_uri": "https://localhost:8080/"
        },
        "id": "nedUUpa2vxS3",
        "outputId": "8a19d096-f00c-489a-f081-5108a124b4c5"
      },
      "execution_count": 8,
      "outputs": [
        {
          "output_type": "stream",
          "name": "stdout",
          "text": [
            "   0  1  2\n",
            "A  1  2  3\n",
            "B  4  5  1\n",
            "C  7  8  2\n",
            "[[-0.22222222  0.11111111  0.33333333]\n",
            " [-2.22222222  2.11111111 -0.66666667]\n",
            " [ 1.44444444 -1.22222222  0.33333333]]\n"
          ]
        }
      ]
    },
    {
      "cell_type": "markdown",
      "source": [],
      "metadata": {
        "id": "eOiuKId34o3r"
      }
    },
    {
      "cell_type": "code",
      "source": [],
      "metadata": {
        "id": "wGc4CjlW4oeK"
      },
      "execution_count": 8,
      "outputs": []
    },
    {
      "cell_type": "markdown",
      "source": [
        "### catatatn hal-hal penting\n",
        "\n",
        "* mencari nilai B1 (koifisien/slope)\n",
        "* mencari nilai B0(Intercept)\n",
        "* perkalian matrik dengan matrik\n",
        "* transpose  matrik\n",
        "* invers matrik\n",
        "\n",
        "\n"
      ],
      "metadata": {
        "id": "Ydaywlp2yqPS"
      }
    }
  ]
}