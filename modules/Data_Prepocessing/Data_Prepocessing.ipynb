{
  "nbformat": 4,
  "nbformat_minor": 0,
  "metadata": {
    "colab": {
      "provenance": [],
      "authorship_tag": "ABX9TyMQdbbKiPMPo7/sfTP5pomK",
      "include_colab_link": true
    },
    "kernelspec": {
      "name": "python3",
      "display_name": "Python 3"
    },
    "language_info": {
      "name": "python"
    }
  },
  "cells": [
    {
      "cell_type": "markdown",
      "metadata": {
        "id": "view-in-github",
        "colab_type": "text"
      },
      "source": [
        "<a href=\"https://colab.research.google.com/github/ihyaulumuddin044/Pengantar_ML/blob/main/modules/Data_Prepocessing/Data_Prepocessing.ipynb\" target=\"_parent\"><img src=\"https://colab.research.google.com/assets/colab-badge.svg\" alt=\"Open In Colab\"/></a>"
      ]
    },
    {
      "cell_type": "code",
      "source": [
        "import pandas as pd\n",
        "import numpy as np\n",
        "\n",
        "# --- 1. Membuat Dataset Mentah ---\n",
        "data = {\n",
        "    'ID Pelanggan': [1, 2, 3, 4, 5, 6, 7, 8],\n",
        "    'Nama': ['Budi', 'Ana', 'Cici', 'Didi', 'Budi', 'Eka', 'Fafa', 'Ana'],\n",
        "    'Usia': [28, '-', 35, 22, 28, 40, np.nan, 30], # np.nan adalah representasi Missing Value\n",
        "    'Kota Tinggal': ['Jakarta', np.nan, 'Bandung', 'jakarta', 'Jakarta', np.nan, 'Surabaya', 'Medan'],\n",
        "    'Pendapatan (juta)': [5.5, '-', 7.25, 4.0, 5.5, 12.0, 6.0, 6.5],\n",
        "    'Status Member': ['Premium', 'Reguler', 'Premium', '-', 'Premium', 'Premium', 'Reguler', 'Reguler']\n",
        "}\n",
        "df = pd.DataFrame(data)\n",
        "\n",
        "print(\"--- Dataset Mentah Awal ---\")\n",
        "print(df)\n",
        "print(\"\\n--- missing values ---\")\n",
        "print(df.isnull().sum())"
      ],
      "metadata": {
        "colab": {
          "base_uri": "https://localhost:8080/"
        },
        "id": "42JONKcM_t_P",
        "outputId": "a345bce3-0791-4633-c317-eab1b2c875cf"
      },
      "execution_count": 9,
      "outputs": [
        {
          "output_type": "stream",
          "name": "stdout",
          "text": [
            "--- Dataset Mentah Awal ---\n",
            "   ID Pelanggan  Nama Usia Kota Tinggal Pendapatan (juta) Status Member\n",
            "0             1  Budi   28      Jakarta               5.5       Premium\n",
            "1             2   Ana    -          NaN                 -       Reguler\n",
            "2             3  Cici   35      Bandung              7.25       Premium\n",
            "3             4  Didi   22      jakarta               4.0             -\n",
            "4             5  Budi   28      Jakarta               5.5       Premium\n",
            "5             6   Eka   40          NaN              12.0       Premium\n",
            "6             7  Fafa  NaN     Surabaya               6.0       Reguler\n",
            "7             8   Ana   30        Medan               6.5       Reguler\n",
            "\n",
            "--- missing values ---\n",
            "ID Pelanggan         0\n",
            "Nama                 0\n",
            "Usia                 1\n",
            "Kota Tinggal         2\n",
            "Pendapatan (juta)    0\n",
            "Status Member        0\n",
            "dtype: int64\n"
          ]
        }
      ]
    },
    {
      "cell_type": "code",
      "execution_count": 10,
      "metadata": {
        "colab": {
          "base_uri": "https://localhost:8080/"
        },
        "id": "PiyMVqAd8Yph",
        "outputId": "141d9c37-f3b0-4739-e8b2-1fde6f3d2633"
      },
      "outputs": [
        {
          "output_type": "stream",
          "name": "stdout",
          "text": [
            "--- Setelah Mengganti '-' dengan NaN ---\n",
            "   ID Pelanggan  Nama  Usia Kota Tinggal  Pendapatan (juta) Status Member\n",
            "0             1  Budi  28.0      Jakarta               5.50       Premium\n",
            "1             2   Ana   NaN          NaN                NaN       Reguler\n",
            "2             3  Cici  35.0      Bandung               7.25       Premium\n",
            "3             4  Didi  22.0      jakarta               4.00           NaN\n",
            "4             5  Budi  28.0      Jakarta               5.50       Premium\n",
            "5             6   Eka  40.0          NaN              12.00       Premium\n",
            "6             7  Fafa   NaN     Surabaya               6.00       Reguler\n",
            "7             8   Ana  30.0        Medan               6.50       Reguler\n",
            "\n",
            "========================================\n",
            "\n",
            "--- Jumlah Missing Values di Setiap Kolom ---\n",
            "ID Pelanggan         0\n",
            "Nama                 0\n",
            "Usia                 2\n",
            "Kota Tinggal         2\n",
            "Pendapatan (juta)    1\n",
            "Status Member        1\n",
            "dtype: int64\n",
            "\n",
            "========================================\n",
            "\n",
            "--- Setelah Mengisi Missing Values ---\n",
            "   ID Pelanggan  Nama  Usia Kota Tinggal  Pendapatan (juta) Status Member\n",
            "0             1  Budi  28.0      Jakarta               5.50       Premium\n",
            "1             2   Ana  29.0      Jakarta               6.00       Reguler\n",
            "2             3  Cici  35.0      Bandung               7.25       Premium\n",
            "3             4  Didi  22.0      jakarta               4.00       Premium\n",
            "4             5  Budi  28.0      Jakarta               5.50       Premium\n",
            "5             6   Eka  40.0      Jakarta              12.00       Premium\n",
            "6             7  Fafa  29.0     Surabaya               6.00       Reguler\n",
            "7             8   Ana  30.0        Medan               6.50       Reguler\n",
            "\n",
            "========================================\n",
            "\n",
            "--- Setelah Standardisasi 'Kota Tinggal' ---\n",
            "   ID Pelanggan  Nama  Usia Kota Tinggal  Pendapatan (juta) Status Member\n",
            "0             1  Budi  28.0      Jakarta               5.50       Premium\n",
            "1             2   Ana  29.0      Jakarta               6.00       Reguler\n",
            "2             3  Cici  35.0      Bandung               7.25       Premium\n",
            "3             4  Didi  22.0      Jakarta               4.00       Premium\n",
            "4             5  Budi  28.0      Jakarta               5.50       Premium\n",
            "5             6   Eka  40.0      Jakarta              12.00       Premium\n",
            "6             7  Fafa  29.0     Surabaya               6.00       Reguler\n",
            "7             8   Ana  30.0        Medan               6.50       Reguler\n",
            "\n",
            "========================================\n",
            "\n",
            "--- Setelah Menghapus Duplikasi ---\n",
            "   ID Pelanggan  Nama  Usia Kota Tinggal  Pendapatan (juta) Status Member\n",
            "0             1  Budi  28.0      Jakarta               5.50       Premium\n",
            "1             2   Ana  29.0      Jakarta               6.00       Reguler\n",
            "2             3  Cici  35.0      Bandung               7.25       Premium\n",
            "3             4  Didi  22.0      Jakarta               4.00       Premium\n",
            "4             5  Budi  28.0      Jakarta               5.50       Premium\n",
            "5             6   Eka  40.0      Jakarta              12.00       Premium\n",
            "6             7  Fafa  29.0     Surabaya               6.00       Reguler\n",
            "7             8   Ana  30.0        Medan               6.50       Reguler\n",
            "\n",
            "========================================\n",
            "\n",
            "--- Dataframe Akhir Setelah Cleaning ---\n",
            "   ID Pelanggan  Nama  Usia Kota Tinggal  Pendapatan (juta) Status Member\n",
            "0             1  Budi  28.0      Jakarta               5.50       Premium\n",
            "1             2   Ana  29.0      Jakarta               6.00       Reguler\n",
            "2             3  Cici  35.0      Bandung               7.25       Premium\n",
            "3             4  Didi  22.0      Jakarta               4.00       Premium\n",
            "4             5  Budi  28.0      Jakarta               5.50       Premium\n",
            "5             6   Eka  40.0      Jakarta              12.00       Premium\n",
            "6             7  Fafa  29.0     Surabaya               6.00       Reguler\n",
            "7             8   Ana  30.0        Medan               6.50       Reguler\n",
            "\n",
            "Jumlah baris setelah cleaning: 8\n",
            "Jumlah missing values setelah cleaning:\n",
            " ID Pelanggan         0\n",
            "Nama                 0\n",
            "Usia                 0\n",
            "Kota Tinggal         0\n",
            "Pendapatan (juta)    0\n",
            "Status Member        0\n",
            "dtype: int64\n"
          ]
        },
        {
          "output_type": "stream",
          "name": "stderr",
          "text": [
            "<ipython-input-10-5d7f2fc63228>:5: FutureWarning: Downcasting behavior in `replace` is deprecated and will be removed in a future version. To retain the old behavior, explicitly call `result.infer_objects(copy=False)`. To opt-in to the future behavior, set `pd.set_option('future.no_silent_downcasting', True)`\n",
            "  df.replace('-', np.nan, inplace=True)\n",
            "<ipython-input-10-5d7f2fc63228>:20: FutureWarning: A value is trying to be set on a copy of a DataFrame or Series through chained assignment using an inplace method.\n",
            "The behavior will change in pandas 3.0. This inplace method will never work because the intermediate object on which we are setting values always behaves as a copy.\n",
            "\n",
            "For example, when doing 'df[col].method(value, inplace=True)', try using 'df.method({col: value}, inplace=True)' or df[col] = df[col].method(value) instead, to perform the operation inplace on the original object.\n",
            "\n",
            "\n",
            "  df['Usia'].fillna(median_usia, inplace=True)\n",
            "<ipython-input-10-5d7f2fc63228>:24: FutureWarning: A value is trying to be set on a copy of a DataFrame or Series through chained assignment using an inplace method.\n",
            "The behavior will change in pandas 3.0. This inplace method will never work because the intermediate object on which we are setting values always behaves as a copy.\n",
            "\n",
            "For example, when doing 'df[col].method(value, inplace=True)', try using 'df.method({col: value}, inplace=True)' or df[col] = df[col].method(value) instead, to perform the operation inplace on the original object.\n",
            "\n",
            "\n",
            "  df['Kota Tinggal'].fillna(modus_kota, inplace=True)\n",
            "<ipython-input-10-5d7f2fc63228>:29: FutureWarning: A value is trying to be set on a copy of a DataFrame or Series through chained assignment using an inplace method.\n",
            "The behavior will change in pandas 3.0. This inplace method will never work because the intermediate object on which we are setting values always behaves as a copy.\n",
            "\n",
            "For example, when doing 'df[col].method(value, inplace=True)', try using 'df.method({col: value}, inplace=True)' or df[col] = df[col].method(value) instead, to perform the operation inplace on the original object.\n",
            "\n",
            "\n",
            "  df['Pendapatan (juta)'].fillna(median_pendapatan, inplace=True)\n",
            "<ipython-input-10-5d7f2fc63228>:33: FutureWarning: A value is trying to be set on a copy of a DataFrame or Series through chained assignment using an inplace method.\n",
            "The behavior will change in pandas 3.0. This inplace method will never work because the intermediate object on which we are setting values always behaves as a copy.\n",
            "\n",
            "For example, when doing 'df[col].method(value, inplace=True)', try using 'df.method({col: value}, inplace=True)' or df[col] = df[col].method(value) instead, to perform the operation inplace on the original object.\n",
            "\n",
            "\n",
            "  df['Status Member'].fillna(modus_member, inplace=True)\n"
          ]
        }
      ],
      "source": [
        "# --- 2. Menangani Missing Values dan Inkonsistensi Awal ---\n",
        "\n",
        "# 2.1 Mengidentifikasi dan Mengganti Nilai 'Tidak Valid' dengan NaN\n",
        "# Kolom 'Usia', 'Pendapatan (juta)', dan 'Status Member' memiliki '-' sebagai missing value\n",
        "df.replace('-', np.nan, inplace=True)\n",
        "\n",
        "print(\"--- Setelah Mengganti '-' dengan NaN ---\")\n",
        "print(df)\n",
        "print(\"\\n\" + \"=\"*40 + \"\\n\")\n",
        "\n",
        "# 2.2 Mengecek Missing Values\n",
        "print(\"--- Jumlah Missing Values di Setiap Kolom ---\")\n",
        "print(df.isnull().sum())\n",
        "print(\"\\n\" + \"=\"*40 + \"\\n\")\n",
        "\n",
        "# 2.3 Mengisi Missing Values\n",
        "# Kolom 'Usia': Numerik, kita bisa pakai median karena lebih tahan terhadap outlier\n",
        "df['Usia'] = pd.to_numeric(df['Usia']) # Pastikan kolom menjadi numerik sebelum mengisi\n",
        "median_usia = df['Usia'].median()\n",
        "df['Usia'].fillna(median_usia, inplace=True)\n",
        "\n",
        "# Kolom 'Kota Tinggal': Kategorikal, kita bisa pakai modus (nilai paling sering muncul)\n",
        "modus_kota = df['Kota Tinggal'].mode()[0] # .mode() bisa mengembalikan beberapa modus, ambil yang pertama\n",
        "df['Kota Tinggal'].fillna(modus_kota, inplace=True)\n",
        "\n",
        "# Kolom 'Pendapatan (juta)': Numerik, kita pakai median\n",
        "df['Pendapatan (juta)'] = pd.to_numeric(df['Pendapatan (juta)'])\n",
        "median_pendapatan = df['Pendapatan (juta)'].median()\n",
        "df['Pendapatan (juta)'].fillna(median_pendapatan, inplace=True)\n",
        "\n",
        "# Kolom 'Status Member': Kategorikal, kita bisa pakai modus\n",
        "modus_member = df['Status Member'].mode()[0]\n",
        "df['Status Member'].fillna(modus_member, inplace=True)\n",
        "\n",
        "\n",
        "print(\"--- Setelah Mengisi Missing Values ---\")\n",
        "print(df)\n",
        "print(\"\\n\" + \"=\"*40 + \"\\n\")\n",
        "\n",
        "# --- 3. Mengatasi Inkonsistensi Data (Standardisasi Teks) ---\n",
        "# Kolom 'Kota Tinggal': Mengubah semua menjadi huruf kapital di awal kata (Title Case)\n",
        "df['Kota Tinggal'] = df['Kota Tinggal'].str.title()\n",
        "\n",
        "print(\"--- Setelah Standardisasi 'Kota Tinggal' ---\")\n",
        "print(df)\n",
        "print(\"\\n\" + \"=\"*40 + \"\\n\")\n",
        "\n",
        "# --- 4. Menghapus Duplikasi Data ---\n",
        "# Mengecek duplikasi (kecuali kolom ID, karena ID Pelanggan unik)\n",
        "# Kita anggap duplikasi adalah jika Nama, Usia, Kota Tinggal, Pendapatan, dan Status Member sama\n",
        "df_cleaned = df.drop_duplicates(subset=['Nama', 'Usia', 'Kota Tinggal', 'Pendapatan (juta)', 'Status Member'])\n",
        "\n",
        "# Untuk kasus ini, ID 1 dan ID 5 adalah duplikat sempurna, kita ingin mempertahankan satu saja.\n",
        "# drop_duplicates secara default mempertahankan baris pertama yang ditemukannya.\n",
        "# Karena ID Pelanggan 1 dan 5 memiliki nilai yang sama di semua kolom relevan,\n",
        "# baris dengan ID 5 akan dihapus jika kita menghapus duplikat berdasarkan semua kolom kecuali ID.\n",
        "# Atau, jika kita ingin mempertahankan ID yang berbeda, kita bisa menggunakan .drop_duplicates(subset=[kolom-lainnya])\n",
        "# Mari kita lihat hasilnya dengan drop_duplicates sederhana yang melihat semua kolom\n",
        "df_cleaned = df.drop_duplicates()\n",
        "\n",
        "\n",
        "print(\"--- Setelah Menghapus Duplikasi ---\")\n",
        "print(df_cleaned)\n",
        "print(\"\\n\" + \"=\"*40 + \"\\n\")\n",
        "\n",
        "# --- 5. Ringkasan Akhir ---\n",
        "print(\"--- Dataframe Akhir Setelah Cleaning ---\")\n",
        "print(df_cleaned)\n",
        "print(\"\\nJumlah baris setelah cleaning:\", len(df_cleaned))\n",
        "print(\"Jumlah missing values setelah cleaning:\\n\", df_cleaned.isnull().sum())"
      ]
    },
    {
      "cell_type": "code",
      "source": [
        "# Kolom 'Kota Tinggal' memiliki 'jakarta' dan 'Jakarta'. Ini inkonsisten.\n",
        "# Kita akan menstandarisasi menjadi format yang seragam (misalnya, Capitalized/Title Case)\n",
        "df['Kota Tinggal'] = df['Kota Tinggal'].str.title()\n",
        "\n",
        "print(\"\\n--- Setelah Standardisasi 'Kota Tinggal' (Title Case) ---\")\n",
        "print(df)"
      ],
      "metadata": {
        "colab": {
          "base_uri": "https://localhost:8080/"
        },
        "id": "rBZiug3a_sgC",
        "outputId": "ecbbd864-09a6-4a1b-e87b-247513eb3ecb"
      },
      "execution_count": 11,
      "outputs": [
        {
          "output_type": "stream",
          "name": "stdout",
          "text": [
            "\n",
            "--- Setelah Standardisasi 'Kota Tinggal' (Title Case) ---\n",
            "   ID Pelanggan  Nama  Usia Kota Tinggal  Pendapatan (juta) Status Member\n",
            "0             1  Budi  28.0      Jakarta               5.50       Premium\n",
            "1             2   Ana  29.0      Jakarta               6.00       Reguler\n",
            "2             3  Cici  35.0      Bandung               7.25       Premium\n",
            "3             4  Didi  22.0      Jakarta               4.00       Premium\n",
            "4             5  Budi  28.0      Jakarta               5.50       Premium\n",
            "5             6   Eka  40.0      Jakarta              12.00       Premium\n",
            "6             7  Fafa  29.0     Surabaya               6.00       Reguler\n",
            "7             8   Ana  30.0        Medan               6.50       Reguler\n"
          ]
        }
      ]
    },
    {
      "cell_type": "code",
      "source": [
        "# Sebelum menghapus, mari kita lihat apakah ada duplikasi\n",
        "print(\"\\n--- Jumlah Baris Sebelum Menghapus Duplikasi ---\")\n",
        "print(len(df))\n",
        "\n",
        "# Menghapus duplikasi. Secara default, Pandas akan mempertahankan baris pertama yang ditemukan.\n",
        "# ID Pelanggan 1 dan 5 memiliki data yang sama persis di kolom lain\n",
        "df_cleaned = df.drop_duplicates(subset=['Nama', 'Usia', 'Kota Tinggal', 'Pendapatan (juta)', 'Status Member'])\n",
        "\n",
        "print(\"\\n--- Setelah Menghapus Duplikasi ---\")\n",
        "print(df_cleaned)\n",
        "print(\"\\n--- Jumlah Baris Setelah Menghapus Duplikasi ---\")\n",
        "print(len(df_cleaned))"
      ],
      "metadata": {
        "colab": {
          "base_uri": "https://localhost:8080/"
        },
        "id": "NezQod8tVO51",
        "outputId": "ca7b75b3-730f-493e-d96a-8dee52086c76"
      },
      "execution_count": 12,
      "outputs": [
        {
          "output_type": "stream",
          "name": "stdout",
          "text": [
            "\n",
            "--- Jumlah Baris Sebelum Menghapus Duplikasi ---\n",
            "8\n",
            "\n",
            "--- Setelah Menghapus Duplikasi ---\n",
            "   ID Pelanggan  Nama  Usia Kota Tinggal  Pendapatan (juta) Status Member\n",
            "0             1  Budi  28.0      Jakarta               5.50       Premium\n",
            "1             2   Ana  29.0      Jakarta               6.00       Reguler\n",
            "2             3  Cici  35.0      Bandung               7.25       Premium\n",
            "3             4  Didi  22.0      Jakarta               4.00       Premium\n",
            "5             6   Eka  40.0      Jakarta              12.00       Premium\n",
            "6             7  Fafa  29.0     Surabaya               6.00       Reguler\n",
            "7             8   Ana  30.0        Medan               6.50       Reguler\n",
            "\n",
            "--- Jumlah Baris Setelah Menghapus Duplikasi ---\n",
            "7\n"
          ]
        }
      ]
    },
    {
      "cell_type": "code",
      "source": [
        "print(\"\\n--- Final DataFrame Setelah Data Cleaning ---\")\n",
        "print(df_cleaned)\n",
        "print(\"\\nJumlah Missing Values (Final):\\n\", df_cleaned.isnull().sum())"
      ],
      "metadata": {
        "id": "LCW80tKPYACU",
        "outputId": "6f62af90-fc2b-4455-9566-49f7ffe24ba1",
        "colab": {
          "base_uri": "https://localhost:8080/"
        }
      },
      "execution_count": 13,
      "outputs": [
        {
          "output_type": "stream",
          "name": "stdout",
          "text": [
            "\n",
            "--- Final DataFrame Setelah Data Cleaning ---\n",
            "   ID Pelanggan  Nama  Usia Kota Tinggal  Pendapatan (juta) Status Member\n",
            "0             1  Budi  28.0      Jakarta               5.50       Premium\n",
            "1             2   Ana  29.0      Jakarta               6.00       Reguler\n",
            "2             3  Cici  35.0      Bandung               7.25       Premium\n",
            "3             4  Didi  22.0      Jakarta               4.00       Premium\n",
            "5             6   Eka  40.0      Jakarta              12.00       Premium\n",
            "6             7  Fafa  29.0     Surabaya               6.00       Reguler\n",
            "7             8   Ana  30.0        Medan               6.50       Reguler\n",
            "\n",
            "Jumlah Missing Values (Final):\n",
            " ID Pelanggan         0\n",
            "Nama                 0\n",
            "Usia                 0\n",
            "Kota Tinggal         0\n",
            "Pendapatan (juta)    0\n",
            "Status Member        0\n",
            "dtype: int64\n"
          ]
        }
      ]
    },
    {
      "cell_type": "markdown",
      "source": [
        "#Data Integration"
      ],
      "metadata": {
        "id": "TwaowcO1brbD"
      }
    },
    {
      "cell_type": "code",
      "source": [
        "Id_pelanggan = pd.read_csv('ID_Pelanggan.csv')\n",
        "print(Id_pelanggan.head())"
      ],
      "metadata": {
        "colab": {
          "base_uri": "https://localhost:8080/"
        },
        "id": "0R1bpkRFbvgA",
        "outputId": "8fdd3d78-5877-40a2-8dc4-c0db9e074250"
      },
      "execution_count": 18,
      "outputs": [
        {
          "output_type": "stream",
          "name": "stdout",
          "text": [
            "   ID_Pelanggan  Nama  Usia Kota_Tinggal Status_Member\n",
            "0             1  Budi    28      Jakarta       Premium\n",
            "1             2   Ana    30      Jakarta       Reguler\n",
            "2             3  Cici    35      Bandung       Premium\n",
            "3             4  Didi    22      Jakarta       Premium\n"
          ]
        }
      ]
    },
    {
      "cell_type": "code",
      "source": [
        "ID_Transaksi = pd.read_csv('ID_Transaksi.csv')\n",
        "print(ID_Transaksi.head())"
      ],
      "metadata": {
        "colab": {
          "base_uri": "https://localhost:8080/"
        },
        "id": "rEofKsEmjsS5",
        "outputId": "38db59ca-00db-4885-af80-53da25bdce67"
      },
      "execution_count": 23,
      "outputs": [
        {
          "output_type": "stream",
          "name": "stdout",
          "text": [
            "   ID_Pelanggan Tanggal_Transaksi  Total_Belanja\n",
            "0             1        15/01/2024         550000\n",
            "1             2        20/01/2024         320000\n",
            "2             3        01/02/2024         780000\n",
            "3             1        10/02/2024         250000\n",
            "4             5        12/02/2024         400000\n"
          ]
        }
      ]
    },
    {
      "cell_type": "code",
      "source": [
        "# Contoh: Inner Join (paling umum jika kita hanya ingin data yang lengkap di kedua sisi)\n",
        "df_gabungan_inner = pd.merge(Id_pelanggan, ID_Transaksi, on='ID_Pelanggan', how='inner')\n",
        "print(\"--- DataFrame Gabungan (Inner Join) ---\")\n",
        "print(\"Hanya baris yang ada di kedua tabel (ID 1, 2, 3, 4)\")\n",
        "print(df_gabungan_inner)\n",
        "print(\"\\n\" + \"=\"*40 + \"\\n\")"
      ],
      "metadata": {
        "colab": {
          "base_uri": "https://localhost:8080/"
        },
        "id": "GRjs1jHbjvWO",
        "outputId": "d95ab2b8-062c-43ad-bedf-3a4d8b94203c"
      },
      "execution_count": 24,
      "outputs": [
        {
          "output_type": "stream",
          "name": "stdout",
          "text": [
            "--- DataFrame Gabungan (Inner Join) ---\n",
            "Hanya baris yang ada di kedua tabel (ID 1, 2, 3, 4)\n",
            "   ID_Pelanggan  Nama  Usia Kota_Tinggal Status_Member Tanggal_Transaksi  \\\n",
            "0             1  Budi    28      Jakarta       Premium        15/01/2024   \n",
            "1             1  Budi    28      Jakarta       Premium        10/02/2024   \n",
            "2             2   Ana    30      Jakarta       Reguler        20/01/2024   \n",
            "3             3  Cici    35      Bandung       Premium        01/02/2024   \n",
            "4             4  Didi    22      Jakarta       Premium        15/02/2024   \n",
            "\n",
            "   Total_Belanja  \n",
            "0         550000  \n",
            "1         250000  \n",
            "2         320000  \n",
            "3         780000  \n",
            "4         150000  \n",
            "\n",
            "========================================\n",
            "\n"
          ]
        }
      ]
    },
    {
      "cell_type": "code",
      "source": [
        "# Contoh: Left Join (Mempertahankan semua pelanggan inti, tambahkan transaksi jika ada)\n",
        "df_gabungan_left = pd.merge(Id_pelanggan, ID_Transaksi, on='ID_Pelanggan', how='left')\n",
        "print(\"--- DataFrame Gabungan (Left Join) ---\")\n",
        "print(\"Semua pelanggan dari df_pelanggan_inti akan ada. Jika tidak ada transaksi, nilai transaksi akan NaN.\\n\")\n",
        "print(df_gabungan_left)\n",
        "print(\"\\n\" + \"=\"*40 + \"\\n\")"
      ],
      "metadata": {
        "colab": {
          "base_uri": "https://localhost:8080/"
        },
        "id": "xto6eVypodOA",
        "outputId": "e6ff7983-df4a-4297-f844-7934ca694af1"
      },
      "execution_count": 27,
      "outputs": [
        {
          "output_type": "stream",
          "name": "stdout",
          "text": [
            "--- DataFrame Gabungan (Left Join) ---\n",
            "Semua pelanggan dari df_pelanggan_inti akan ada. Jika tidak ada transaksi, nilai transaksi akan NaN.\n",
            "\n",
            "   ID_Pelanggan  Nama  Usia Kota_Tinggal Status_Member Tanggal_Transaksi  \\\n",
            "0             1  Budi    28      Jakarta       Premium        15/01/2024   \n",
            "1             1  Budi    28      Jakarta       Premium        10/02/2024   \n",
            "2             2   Ana    30      Jakarta       Reguler        20/01/2024   \n",
            "3             3  Cici    35      Bandung       Premium        01/02/2024   \n",
            "4             4  Didi    22      Jakarta       Premium        15/02/2024   \n",
            "\n",
            "   Total_Belanja  \n",
            "0         550000  \n",
            "1         250000  \n",
            "2         320000  \n",
            "3         780000  \n",
            "4         150000  \n",
            "\n",
            "========================================\n",
            "\n"
          ]
        }
      ]
    },
    {
      "cell_type": "code",
      "source": [
        "# Contoh: Right Join (Mempertahankan semua transaksi, tambahkan info pelanggan jika ada)\n",
        "df_gabungan_right = pd.merge(Id_pelanggan, ID_Transaksi, on='ID_Pelanggan', how='right')\n",
        "print(\"--- DataFrame Gabungan (Right Join) ---\")\n",
        "print(\"Semua transaksi dari df_transaksi akan ada. Jika pelanggan tidak ada di df_pelanggan_inti, info pelanggan akan NaN.\\n\")\n",
        "print(df_gabungan_right)\n",
        "print(\"\\n\" + \"=\"*40 + \"\\n\")"
      ],
      "metadata": {
        "colab": {
          "base_uri": "https://localhost:8080/"
        },
        "id": "zh92wi6OqAK-",
        "outputId": "6e07ca39-75f3-4e24-91dd-ac579e6aa5b9"
      },
      "execution_count": 30,
      "outputs": [
        {
          "output_type": "stream",
          "name": "stdout",
          "text": [
            "--- DataFrame Gabungan (Right Join) ---\n",
            "Semua transaksi dari df_transaksi akan ada. Jika pelanggan tidak ada di df_pelanggan_inti, info pelanggan akan NaN.\n",
            "\n",
            "   ID_Pelanggan  Nama  Usia Kota_Tinggal Status_Member Tanggal_Transaksi  \\\n",
            "0             1  Budi  28.0      Jakarta       Premium        15/01/2024   \n",
            "1             2   Ana  30.0      Jakarta       Reguler        20/01/2024   \n",
            "2             3  Cici  35.0      Bandung       Premium        01/02/2024   \n",
            "3             1  Budi  28.0      Jakarta       Premium        10/02/2024   \n",
            "4             5   NaN   NaN          NaN           NaN        12/02/2024   \n",
            "5             4  Didi  22.0      Jakarta       Premium        15/02/2024   \n",
            "\n",
            "   Total_Belanja  \n",
            "0         550000  \n",
            "1         320000  \n",
            "2         780000  \n",
            "3         250000  \n",
            "4         400000  \n",
            "5         150000  \n",
            "\n",
            "========================================\n",
            "\n"
          ]
        }
      ]
    },
    {
      "cell_type": "code",
      "source": [
        "# Contoh: Outer Join (Menggabungkan semua data, mengisi NaN jika tidak ada kecocokan)\n",
        "df_gabungan_outer = pd.merge(Id_pelanggan, ID_Transaksi, on='ID_Pelanggan', how='outer')\n",
        "print(\"--- DataFrame Gabungan (Outer Join) ---\")\n",
        "print(\"Semua data dari kedua tabel akan ada, dengan NaN untuk data yang tidak cocok.\")\n",
        "print(df_gabungan_outer)\n",
        "print(\"\\n\" + \"=\"*40 + \"\\n\")"
      ],
      "metadata": {
        "colab": {
          "base_uri": "https://localhost:8080/"
        },
        "id": "O5aTGXN6rMfB",
        "outputId": "40beeb63-3d1f-4b8a-aed1-302fc7154e9c"
      },
      "execution_count": 32,
      "outputs": [
        {
          "output_type": "stream",
          "name": "stdout",
          "text": [
            "--- DataFrame Gabungan (Outer Join) ---\n",
            "Semua data dari kedua tabel akan ada, dengan NaN untuk data yang tidak cocok.\n",
            "   ID_Pelanggan  Nama  Usia Kota_Tinggal Status_Member Tanggal_Transaksi  \\\n",
            "0             1  Budi  28.0      Jakarta       Premium        15/01/2024   \n",
            "1             1  Budi  28.0      Jakarta       Premium        10/02/2024   \n",
            "2             2   Ana  30.0      Jakarta       Reguler        20/01/2024   \n",
            "3             3  Cici  35.0      Bandung       Premium        01/02/2024   \n",
            "4             4  Didi  22.0      Jakarta       Premium        15/02/2024   \n",
            "5             5   NaN   NaN          NaN           NaN        12/02/2024   \n",
            "\n",
            "   Total_Belanja  \n",
            "0         550000  \n",
            "1         250000  \n",
            "2         320000  \n",
            "3         780000  \n",
            "4         150000  \n",
            "5         400000  \n",
            "\n",
            "========================================\n",
            "\n"
          ]
        }
      ]
    }
  ]
}