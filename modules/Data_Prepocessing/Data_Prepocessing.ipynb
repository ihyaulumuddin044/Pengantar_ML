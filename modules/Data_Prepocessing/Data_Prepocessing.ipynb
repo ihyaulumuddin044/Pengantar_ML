{
  "nbformat": 4,
  "nbformat_minor": 0,
  "metadata": {
    "colab": {
      "provenance": [],
      "authorship_tag": "ABX9TyMjOTzptgbVLSbVWVlfSRzp",
      "include_colab_link": true
    },
    "kernelspec": {
      "name": "python3",
      "display_name": "Python 3"
    },
    "language_info": {
      "name": "python"
    }
  },
  "cells": [
    {
      "cell_type": "markdown",
      "metadata": {
        "id": "view-in-github",
        "colab_type": "text"
      },
      "source": [
        "<a href=\"https://colab.research.google.com/github/ihyaulumuddin044/Pengantar_ML/blob/main/modules/Data_Prepocessing/Data_Prepocessing.ipynb\" target=\"_parent\"><img src=\"https://colab.research.google.com/assets/colab-badge.svg\" alt=\"Open In Colab\"/></a>"
      ]
    },
    {
      "cell_type": "code",
      "source": [
        "import pandas as pd\n",
        "import numpy as np\n",
        "\n",
        "# --- 1. Membuat Dataset Mentah ---\n",
        "data = {\n",
        "    'ID Pelanggan': [1, 2, 3, 4, 5, 6, 7, 8],\n",
        "    'Nama': ['Budi', 'Ana', 'Cici', 'Didi', 'Budi', 'Eka', 'Fafa', 'Ana'],\n",
        "    'Usia': [28, '-', 35, 22, 28, 40, np.nan, 30], # np.nan adalah representasi Missing Value\n",
        "    'Kota Tinggal': ['Jakarta', np.nan, 'Bandung', 'jakarta', 'Jakarta', np.nan, 'Surabaya', 'Medan'],\n",
        "    'Pendapatan (juta)': [5.5, '-', 7.25, 4.0, 5.5, 12.0, 6.0, 6.5],\n",
        "    'Status Member': ['Premium', 'Reguler', 'Premium', '-', 'Premium', 'Premium', 'Reguler', 'Reguler']\n",
        "}\n",
        "df = pd.DataFrame(data)\n",
        "\n",
        "print(\"--- Dataset Mentah Awal ---\")\n",
        "print(df)\n",
        "print(\"\\n--- missing values ---\")\n",
        "print(df.isnull().sum())"
      ],
      "metadata": {
        "colab": {
          "base_uri": "https://localhost:8080/"
        },
        "id": "42JONKcM_t_P",
        "outputId": "3877e3e1-cbe7-4d47-f2d6-aaf823de7a5a"
      },
      "execution_count": 7,
      "outputs": [
        {
          "output_type": "stream",
          "name": "stdout",
          "text": [
            "--- Dataset Mentah Awal ---\n",
            "   ID Pelanggan  Nama Usia Kota Tinggal Pendapatan (juta) Status Member\n",
            "0             1  Budi   28      Jakarta               5.5       Premium\n",
            "1             2   Ana    -          NaN                 -       Reguler\n",
            "2             3  Cici   35      Bandung              7.25       Premium\n",
            "3             4  Didi   22      jakarta               4.0             -\n",
            "4             5  Budi   28      Jakarta               5.5       Premium\n",
            "5             6   Eka   40          NaN              12.0       Premium\n",
            "6             7  Fafa  NaN     Surabaya               6.0       Reguler\n",
            "7             8   Ana   30        Medan               6.5       Reguler\n",
            "\n",
            "--- missing values ---\n",
            "ID Pelanggan         0\n",
            "Nama                 0\n",
            "Usia                 1\n",
            "Kota Tinggal         2\n",
            "Pendapatan (juta)    0\n",
            "Status Member        0\n",
            "dtype: int64\n"
          ]
        }
      ]
    },
    {
      "cell_type": "code",
      "execution_count": 8,
      "metadata": {
        "colab": {
          "base_uri": "https://localhost:8080/"
        },
        "id": "PiyMVqAd8Yph",
        "outputId": "3b13e523-5491-465b-805c-a3b66e944d56"
      },
      "outputs": [
        {
          "output_type": "stream",
          "name": "stdout",
          "text": [
            "--- Setelah Mengganti '-' dengan NaN ---\n",
            "   ID Pelanggan  Nama  Usia Kota Tinggal  Pendapatan (juta) Status Member\n",
            "0             1  Budi  28.0      Jakarta               5.50       Premium\n",
            "1             2   Ana   NaN          NaN                NaN       Reguler\n",
            "2             3  Cici  35.0      Bandung               7.25       Premium\n",
            "3             4  Didi  22.0      jakarta               4.00           NaN\n",
            "4             5  Budi  28.0      Jakarta               5.50       Premium\n",
            "5             6   Eka  40.0          NaN              12.00       Premium\n",
            "6             7  Fafa   NaN     Surabaya               6.00       Reguler\n",
            "7             8   Ana  30.0        Medan               6.50       Reguler\n",
            "\n",
            "========================================\n",
            "\n",
            "--- Jumlah Missing Values di Setiap Kolom ---\n",
            "ID Pelanggan         0\n",
            "Nama                 0\n",
            "Usia                 2\n",
            "Kota Tinggal         2\n",
            "Pendapatan (juta)    1\n",
            "Status Member        1\n",
            "dtype: int64\n",
            "\n",
            "========================================\n",
            "\n",
            "--- Setelah Mengisi Missing Values ---\n",
            "   ID Pelanggan  Nama  Usia Kota Tinggal  Pendapatan (juta) Status Member\n",
            "0             1  Budi  28.0      Jakarta               5.50       Premium\n",
            "1             2   Ana  29.0      Jakarta               6.00       Reguler\n",
            "2             3  Cici  35.0      Bandung               7.25       Premium\n",
            "3             4  Didi  22.0      jakarta               4.00       Premium\n",
            "4             5  Budi  28.0      Jakarta               5.50       Premium\n",
            "5             6   Eka  40.0      Jakarta              12.00       Premium\n",
            "6             7  Fafa  29.0     Surabaya               6.00       Reguler\n",
            "7             8   Ana  30.0        Medan               6.50       Reguler\n",
            "\n",
            "========================================\n",
            "\n",
            "--- Setelah Standardisasi 'Kota Tinggal' ---\n",
            "   ID Pelanggan  Nama  Usia Kota Tinggal  Pendapatan (juta) Status Member\n",
            "0             1  Budi  28.0      Jakarta               5.50       Premium\n",
            "1             2   Ana  29.0      Jakarta               6.00       Reguler\n",
            "2             3  Cici  35.0      Bandung               7.25       Premium\n",
            "3             4  Didi  22.0      Jakarta               4.00       Premium\n",
            "4             5  Budi  28.0      Jakarta               5.50       Premium\n",
            "5             6   Eka  40.0      Jakarta              12.00       Premium\n",
            "6             7  Fafa  29.0     Surabaya               6.00       Reguler\n",
            "7             8   Ana  30.0        Medan               6.50       Reguler\n",
            "\n",
            "========================================\n",
            "\n",
            "--- Setelah Menghapus Duplikasi ---\n",
            "   ID Pelanggan  Nama  Usia Kota Tinggal  Pendapatan (juta) Status Member\n",
            "0             1  Budi  28.0      Jakarta               5.50       Premium\n",
            "1             2   Ana  29.0      Jakarta               6.00       Reguler\n",
            "2             3  Cici  35.0      Bandung               7.25       Premium\n",
            "3             4  Didi  22.0      Jakarta               4.00       Premium\n",
            "4             5  Budi  28.0      Jakarta               5.50       Premium\n",
            "5             6   Eka  40.0      Jakarta              12.00       Premium\n",
            "6             7  Fafa  29.0     Surabaya               6.00       Reguler\n",
            "7             8   Ana  30.0        Medan               6.50       Reguler\n",
            "\n",
            "========================================\n",
            "\n",
            "--- Dataframe Akhir Setelah Cleaning ---\n",
            "   ID Pelanggan  Nama  Usia Kota Tinggal  Pendapatan (juta) Status Member\n",
            "0             1  Budi  28.0      Jakarta               5.50       Premium\n",
            "1             2   Ana  29.0      Jakarta               6.00       Reguler\n",
            "2             3  Cici  35.0      Bandung               7.25       Premium\n",
            "3             4  Didi  22.0      Jakarta               4.00       Premium\n",
            "4             5  Budi  28.0      Jakarta               5.50       Premium\n",
            "5             6   Eka  40.0      Jakarta              12.00       Premium\n",
            "6             7  Fafa  29.0     Surabaya               6.00       Reguler\n",
            "7             8   Ana  30.0        Medan               6.50       Reguler\n",
            "\n",
            "Jumlah baris setelah cleaning: 8\n",
            "Jumlah missing values setelah cleaning:\n",
            " ID Pelanggan         0\n",
            "Nama                 0\n",
            "Usia                 0\n",
            "Kota Tinggal         0\n",
            "Pendapatan (juta)    0\n",
            "Status Member        0\n",
            "dtype: int64\n"
          ]
        },
        {
          "output_type": "stream",
          "name": "stderr",
          "text": [
            "<ipython-input-8-5d7f2fc63228>:5: FutureWarning: Downcasting behavior in `replace` is deprecated and will be removed in a future version. To retain the old behavior, explicitly call `result.infer_objects(copy=False)`. To opt-in to the future behavior, set `pd.set_option('future.no_silent_downcasting', True)`\n",
            "  df.replace('-', np.nan, inplace=True)\n",
            "<ipython-input-8-5d7f2fc63228>:20: FutureWarning: A value is trying to be set on a copy of a DataFrame or Series through chained assignment using an inplace method.\n",
            "The behavior will change in pandas 3.0. This inplace method will never work because the intermediate object on which we are setting values always behaves as a copy.\n",
            "\n",
            "For example, when doing 'df[col].method(value, inplace=True)', try using 'df.method({col: value}, inplace=True)' or df[col] = df[col].method(value) instead, to perform the operation inplace on the original object.\n",
            "\n",
            "\n",
            "  df['Usia'].fillna(median_usia, inplace=True)\n",
            "<ipython-input-8-5d7f2fc63228>:24: FutureWarning: A value is trying to be set on a copy of a DataFrame or Series through chained assignment using an inplace method.\n",
            "The behavior will change in pandas 3.0. This inplace method will never work because the intermediate object on which we are setting values always behaves as a copy.\n",
            "\n",
            "For example, when doing 'df[col].method(value, inplace=True)', try using 'df.method({col: value}, inplace=True)' or df[col] = df[col].method(value) instead, to perform the operation inplace on the original object.\n",
            "\n",
            "\n",
            "  df['Kota Tinggal'].fillna(modus_kota, inplace=True)\n",
            "<ipython-input-8-5d7f2fc63228>:29: FutureWarning: A value is trying to be set on a copy of a DataFrame or Series through chained assignment using an inplace method.\n",
            "The behavior will change in pandas 3.0. This inplace method will never work because the intermediate object on which we are setting values always behaves as a copy.\n",
            "\n",
            "For example, when doing 'df[col].method(value, inplace=True)', try using 'df.method({col: value}, inplace=True)' or df[col] = df[col].method(value) instead, to perform the operation inplace on the original object.\n",
            "\n",
            "\n",
            "  df['Pendapatan (juta)'].fillna(median_pendapatan, inplace=True)\n",
            "<ipython-input-8-5d7f2fc63228>:33: FutureWarning: A value is trying to be set on a copy of a DataFrame or Series through chained assignment using an inplace method.\n",
            "The behavior will change in pandas 3.0. This inplace method will never work because the intermediate object on which we are setting values always behaves as a copy.\n",
            "\n",
            "For example, when doing 'df[col].method(value, inplace=True)', try using 'df.method({col: value}, inplace=True)' or df[col] = df[col].method(value) instead, to perform the operation inplace on the original object.\n",
            "\n",
            "\n",
            "  df['Status Member'].fillna(modus_member, inplace=True)\n"
          ]
        }
      ],
      "source": [
        "# --- 2. Menangani Missing Values dan Inkonsistensi Awal ---\n",
        "\n",
        "# 2.1 Mengidentifikasi dan Mengganti Nilai 'Tidak Valid' dengan NaN\n",
        "# Kolom 'Usia', 'Pendapatan (juta)', dan 'Status Member' memiliki '-' sebagai missing value\n",
        "df.replace('-', np.nan, inplace=True)\n",
        "\n",
        "print(\"--- Setelah Mengganti '-' dengan NaN ---\")\n",
        "print(df)\n",
        "print(\"\\n\" + \"=\"*40 + \"\\n\")\n",
        "\n",
        "# 2.2 Mengecek Missing Values\n",
        "print(\"--- Jumlah Missing Values di Setiap Kolom ---\")\n",
        "print(df.isnull().sum())\n",
        "print(\"\\n\" + \"=\"*40 + \"\\n\")\n",
        "\n",
        "# 2.3 Mengisi Missing Values\n",
        "# Kolom 'Usia': Numerik, kita bisa pakai median karena lebih tahan terhadap outlier\n",
        "df['Usia'] = pd.to_numeric(df['Usia']) # Pastikan kolom menjadi numerik sebelum mengisi\n",
        "median_usia = df['Usia'].median()\n",
        "df['Usia'].fillna(median_usia, inplace=True)\n",
        "\n",
        "# Kolom 'Kota Tinggal': Kategorikal, kita bisa pakai modus (nilai paling sering muncul)\n",
        "modus_kota = df['Kota Tinggal'].mode()[0] # .mode() bisa mengembalikan beberapa modus, ambil yang pertama\n",
        "df['Kota Tinggal'].fillna(modus_kota, inplace=True)\n",
        "\n",
        "# Kolom 'Pendapatan (juta)': Numerik, kita pakai median\n",
        "df['Pendapatan (juta)'] = pd.to_numeric(df['Pendapatan (juta)'])\n",
        "median_pendapatan = df['Pendapatan (juta)'].median()\n",
        "df['Pendapatan (juta)'].fillna(median_pendapatan, inplace=True)\n",
        "\n",
        "# Kolom 'Status Member': Kategorikal, kita bisa pakai modus\n",
        "modus_member = df['Status Member'].mode()[0]\n",
        "df['Status Member'].fillna(modus_member, inplace=True)\n",
        "\n",
        "\n",
        "print(\"--- Setelah Mengisi Missing Values ---\")\n",
        "print(df)\n",
        "print(\"\\n\" + \"=\"*40 + \"\\n\")\n",
        "\n",
        "# --- 3. Mengatasi Inkonsistensi Data (Standardisasi Teks) ---\n",
        "# Kolom 'Kota Tinggal': Mengubah semua menjadi huruf kapital di awal kata (Title Case)\n",
        "df['Kota Tinggal'] = df['Kota Tinggal'].str.title()\n",
        "\n",
        "print(\"--- Setelah Standardisasi 'Kota Tinggal' ---\")\n",
        "print(df)\n",
        "print(\"\\n\" + \"=\"*40 + \"\\n\")\n",
        "\n",
        "# --- 4. Menghapus Duplikasi Data ---\n",
        "# Mengecek duplikasi (kecuali kolom ID, karena ID Pelanggan unik)\n",
        "# Kita anggap duplikasi adalah jika Nama, Usia, Kota Tinggal, Pendapatan, dan Status Member sama\n",
        "df_cleaned = df.drop_duplicates(subset=['Nama', 'Usia', 'Kota Tinggal', 'Pendapatan (juta)', 'Status Member'])\n",
        "\n",
        "# Untuk kasus ini, ID 1 dan ID 5 adalah duplikat sempurna, kita ingin mempertahankan satu saja.\n",
        "# drop_duplicates secara default mempertahankan baris pertama yang ditemukannya.\n",
        "# Karena ID Pelanggan 1 dan 5 memiliki nilai yang sama di semua kolom relevan,\n",
        "# baris dengan ID 5 akan dihapus jika kita menghapus duplikat berdasarkan semua kolom kecuali ID.\n",
        "# Atau, jika kita ingin mempertahankan ID yang berbeda, kita bisa menggunakan .drop_duplicates(subset=[kolom-lainnya])\n",
        "# Mari kita lihat hasilnya dengan drop_duplicates sederhana yang melihat semua kolom\n",
        "df_cleaned = df.drop_duplicates()\n",
        "\n",
        "\n",
        "print(\"--- Setelah Menghapus Duplikasi ---\")\n",
        "print(df_cleaned)\n",
        "print(\"\\n\" + \"=\"*40 + \"\\n\")\n",
        "\n",
        "# --- 5. Ringkasan Akhir ---\n",
        "print(\"--- Dataframe Akhir Setelah Cleaning ---\")\n",
        "print(df_cleaned)\n",
        "print(\"\\nJumlah baris setelah cleaning:\", len(df_cleaned))\n",
        "print(\"Jumlah missing values setelah cleaning:\\n\", df_cleaned.isnull().sum())"
      ]
    },
    {
      "cell_type": "code",
      "source": [
        "# Kolom 'Kota Tinggal' memiliki 'jakarta' dan 'Jakarta'. Ini inkonsisten.\n",
        "# Kita akan menstandarisasi menjadi format yang seragam (misalnya, Capitalized/Title Case)\n",
        "df['Kota Tinggal'] = df['Kota Tinggal'].str.title()\n",
        "\n",
        "print(\"\\n--- Setelah Standardisasi 'Kota Tinggal' (Title Case) ---\")\n",
        "print(df)"
      ],
      "metadata": {
        "colab": {
          "base_uri": "https://localhost:8080/"
        },
        "id": "rBZiug3a_sgC",
        "outputId": "5942453c-44db-4eae-a09e-650108bee8be"
      },
      "execution_count": 9,
      "outputs": [
        {
          "output_type": "stream",
          "name": "stdout",
          "text": [
            "\n",
            "--- Setelah Standardisasi 'Kota Tinggal' (Title Case) ---\n",
            "   ID Pelanggan  Nama  Usia Kota Tinggal  Pendapatan (juta) Status Member\n",
            "0             1  Budi  28.0      Jakarta               5.50       Premium\n",
            "1             2   Ana  29.0      Jakarta               6.00       Reguler\n",
            "2             3  Cici  35.0      Bandung               7.25       Premium\n",
            "3             4  Didi  22.0      Jakarta               4.00       Premium\n",
            "4             5  Budi  28.0      Jakarta               5.50       Premium\n",
            "5             6   Eka  40.0      Jakarta              12.00       Premium\n",
            "6             7  Fafa  29.0     Surabaya               6.00       Reguler\n",
            "7             8   Ana  30.0        Medan               6.50       Reguler\n"
          ]
        }
      ]
    },
    {
      "cell_type": "code",
      "source": [
        "# Sebelum menghapus, mari kita lihat apakah ada duplikasi\n",
        "print(\"\\n--- Jumlah Baris Sebelum Menghapus Duplikasi ---\")\n",
        "print(len(df))\n",
        "\n",
        "# Menghapus duplikasi. Secara default, Pandas akan mempertahankan baris pertama yang ditemukan.\n",
        "# ID Pelanggan 1 dan 5 memiliki data yang sama persis di kolom lain\n",
        "df_cleaned = df.drop_duplicates(subset=['Nama', 'Usia', 'Kota Tinggal', 'Pendapatan (juta)', 'Status Member'])\n",
        "\n",
        "print(\"\\n--- Setelah Menghapus Duplikasi ---\")\n",
        "print(df_cleaned)\n",
        "print(\"\\n--- Jumlah Baris Setelah Menghapus Duplikasi ---\")\n",
        "print(len(df_cleaned))"
      ],
      "metadata": {
        "colab": {
          "base_uri": "https://localhost:8080/"
        },
        "id": "NezQod8tVO51",
        "outputId": "795003ef-d489-4609-dfd3-3ebda6f8b7c3"
      },
      "execution_count": 10,
      "outputs": [
        {
          "output_type": "stream",
          "name": "stdout",
          "text": [
            "\n",
            "--- Jumlah Baris Sebelum Menghapus Duplikasi ---\n",
            "8\n",
            "\n",
            "--- Setelah Menghapus Duplikasi ---\n",
            "   ID Pelanggan  Nama  Usia Kota Tinggal  Pendapatan (juta) Status Member\n",
            "0             1  Budi  28.0      Jakarta               5.50       Premium\n",
            "1             2   Ana  29.0      Jakarta               6.00       Reguler\n",
            "2             3  Cici  35.0      Bandung               7.25       Premium\n",
            "3             4  Didi  22.0      Jakarta               4.00       Premium\n",
            "5             6   Eka  40.0      Jakarta              12.00       Premium\n",
            "6             7  Fafa  29.0     Surabaya               6.00       Reguler\n",
            "7             8   Ana  30.0        Medan               6.50       Reguler\n",
            "\n",
            "--- Jumlah Baris Setelah Menghapus Duplikasi ---\n",
            "7\n"
          ]
        }
      ]
    },
    {
      "cell_type": "code",
      "source": [
        "print(\"\\n--- Final DataFrame Setelah Data Cleaning ---\")\n",
        "print(df_cleaned)\n",
        "print(\"\\nJumlah Missing Values (Final):\\n\", df_cleaned.isnull().sum())"
      ],
      "metadata": {
        "id": "LCW80tKPYACU",
        "outputId": "1911d955-4e0b-4acf-9c74-ff6fea1d444c",
        "colab": {
          "base_uri": "https://localhost:8080/"
        }
      },
      "execution_count": 11,
      "outputs": [
        {
          "output_type": "stream",
          "name": "stdout",
          "text": [
            "\n",
            "--- Final DataFrame Setelah Data Cleaning ---\n",
            "   ID Pelanggan  Nama  Usia Kota Tinggal  Pendapatan (juta) Status Member\n",
            "0             1  Budi  28.0      Jakarta               5.50       Premium\n",
            "1             2   Ana  29.0      Jakarta               6.00       Reguler\n",
            "2             3  Cici  35.0      Bandung               7.25       Premium\n",
            "3             4  Didi  22.0      Jakarta               4.00       Premium\n",
            "5             6   Eka  40.0      Jakarta              12.00       Premium\n",
            "6             7  Fafa  29.0     Surabaya               6.00       Reguler\n",
            "7             8   Ana  30.0        Medan               6.50       Reguler\n",
            "\n",
            "Jumlah Missing Values (Final):\n",
            " ID Pelanggan         0\n",
            "Nama                 0\n",
            "Usia                 0\n",
            "Kota Tinggal         0\n",
            "Pendapatan (juta)    0\n",
            "Status Member        0\n",
            "dtype: int64\n"
          ]
        }
      ]
    },
    {
      "cell_type": "markdown",
      "source": [
        "#Data Integration"
      ],
      "metadata": {
        "id": "TwaowcO1brbD"
      }
    },
    {
      "cell_type": "code",
      "source": [
        "Id_pelanggan = pd.read_csv('ID_Pelanggan.csv')\n",
        "print(Id_pelanggan.head())"
      ],
      "metadata": {
        "colab": {
          "base_uri": "https://localhost:8080/"
        },
        "id": "0R1bpkRFbvgA",
        "outputId": "2af8f559-f7f6-49f0-ba86-8446357291d8"
      },
      "execution_count": 12,
      "outputs": [
        {
          "output_type": "stream",
          "name": "stdout",
          "text": [
            "   ID_Pelanggan  Nama  Usia Kota_Tinggal Status_Member\n",
            "0             1  Budi    28      Jakarta       Premium\n",
            "1             2   Ana    30      Jakarta       Reguler\n",
            "2             3  Cici    35      Bandung       Premium\n",
            "3             4  Didi    22      Jakarta       Premium\n"
          ]
        }
      ]
    },
    {
      "cell_type": "code",
      "source": [
        "ID_Transaksi = pd.read_csv('ID_Transaksi.csv')\n",
        "print(ID_Transaksi.head())"
      ],
      "metadata": {
        "colab": {
          "base_uri": "https://localhost:8080/"
        },
        "id": "rEofKsEmjsS5",
        "outputId": "0be06a35-0673-457c-c7cf-adac6b2f1c39"
      },
      "execution_count": 13,
      "outputs": [
        {
          "output_type": "stream",
          "name": "stdout",
          "text": [
            "   ID_Pelanggan Tanggal_Transaksi  Total_Belanja\n",
            "0             1        15/01/2024         550000\n",
            "1             2        20/01/2024         320000\n",
            "2             3        01/02/2024         780000\n",
            "3             1        10/02/2024         250000\n",
            "4             5        12/02/2024         400000\n"
          ]
        }
      ]
    },
    {
      "cell_type": "code",
      "source": [
        "# Contoh: Inner Join (paling umum jika kita hanya ingin data yang lengkap di kedua sisi)\n",
        "df_gabungan_inner = pd.merge(Id_pelanggan, ID_Transaksi, on='ID_Pelanggan', how='inner')\n",
        "print(\"--- DataFrame Gabungan (Inner Join) ---\")\n",
        "print(\"Hanya baris yang ada di kedua tabel (ID 1, 2, 3, 4)\")\n",
        "print(df_gabungan_inner)\n",
        "print(\"\\n\" + \"=\"*40 + \"\\n\")"
      ],
      "metadata": {
        "colab": {
          "base_uri": "https://localhost:8080/"
        },
        "id": "GRjs1jHbjvWO",
        "outputId": "931f8c4c-ba4b-418e-8436-4eba9ee7afb6"
      },
      "execution_count": 14,
      "outputs": [
        {
          "output_type": "stream",
          "name": "stdout",
          "text": [
            "--- DataFrame Gabungan (Inner Join) ---\n",
            "Hanya baris yang ada di kedua tabel (ID 1, 2, 3, 4)\n",
            "   ID_Pelanggan  Nama  Usia Kota_Tinggal Status_Member Tanggal_Transaksi  \\\n",
            "0             1  Budi    28      Jakarta       Premium        15/01/2024   \n",
            "1             1  Budi    28      Jakarta       Premium        10/02/2024   \n",
            "2             2   Ana    30      Jakarta       Reguler        20/01/2024   \n",
            "3             3  Cici    35      Bandung       Premium        01/02/2024   \n",
            "4             4  Didi    22      Jakarta       Premium        15/02/2024   \n",
            "\n",
            "   Total_Belanja  \n",
            "0         550000  \n",
            "1         250000  \n",
            "2         320000  \n",
            "3         780000  \n",
            "4         150000  \n",
            "\n",
            "========================================\n",
            "\n"
          ]
        }
      ]
    },
    {
      "cell_type": "code",
      "source": [
        "# Contoh: Left Join (Mempertahankan semua pelanggan inti, tambahkan transaksi jika ada)\n",
        "df_gabungan_left = pd.merge(Id_pelanggan, ID_Transaksi, on='ID_Pelanggan', how='left')\n",
        "print(\"--- DataFrame Gabungan (Left Join) ---\")\n",
        "print(\"Semua pelanggan dari df_pelanggan_inti akan ada. Jika tidak ada transaksi, nilai transaksi akan NaN.\\n\")\n",
        "print(df_gabungan_left)\n",
        "print(\"\\n\" + \"=\"*40 + \"\\n\")"
      ],
      "metadata": {
        "colab": {
          "base_uri": "https://localhost:8080/"
        },
        "id": "xto6eVypodOA",
        "outputId": "be2dcf2a-27eb-47da-d45b-ec28bd75a5c6"
      },
      "execution_count": 15,
      "outputs": [
        {
          "output_type": "stream",
          "name": "stdout",
          "text": [
            "--- DataFrame Gabungan (Left Join) ---\n",
            "Semua pelanggan dari df_pelanggan_inti akan ada. Jika tidak ada transaksi, nilai transaksi akan NaN.\n",
            "\n",
            "   ID_Pelanggan  Nama  Usia Kota_Tinggal Status_Member Tanggal_Transaksi  \\\n",
            "0             1  Budi    28      Jakarta       Premium        15/01/2024   \n",
            "1             1  Budi    28      Jakarta       Premium        10/02/2024   \n",
            "2             2   Ana    30      Jakarta       Reguler        20/01/2024   \n",
            "3             3  Cici    35      Bandung       Premium        01/02/2024   \n",
            "4             4  Didi    22      Jakarta       Premium        15/02/2024   \n",
            "\n",
            "   Total_Belanja  \n",
            "0         550000  \n",
            "1         250000  \n",
            "2         320000  \n",
            "3         780000  \n",
            "4         150000  \n",
            "\n",
            "========================================\n",
            "\n"
          ]
        }
      ]
    },
    {
      "cell_type": "code",
      "source": [
        "# Contoh: Right Join (Mempertahankan semua transaksi, tambahkan info pelanggan jika ada)\n",
        "df_gabungan_right = pd.merge(Id_pelanggan, ID_Transaksi, on='ID_Pelanggan', how='right')\n",
        "print(\"--- DataFrame Gabungan (Right Join) ---\")\n",
        "print(\"Semua transaksi dari df_transaksi akan ada. Jika pelanggan tidak ada di df_pelanggan_inti, info pelanggan akan NaN.\\n\")\n",
        "print(df_gabungan_right)\n",
        "print(\"\\n\" + \"=\"*40 + \"\\n\")"
      ],
      "metadata": {
        "colab": {
          "base_uri": "https://localhost:8080/"
        },
        "id": "zh92wi6OqAK-",
        "outputId": "472137bb-eeac-48c6-e6e2-3e608a289350"
      },
      "execution_count": 16,
      "outputs": [
        {
          "output_type": "stream",
          "name": "stdout",
          "text": [
            "--- DataFrame Gabungan (Right Join) ---\n",
            "Semua transaksi dari df_transaksi akan ada. Jika pelanggan tidak ada di df_pelanggan_inti, info pelanggan akan NaN.\n",
            "\n",
            "   ID_Pelanggan  Nama  Usia Kota_Tinggal Status_Member Tanggal_Transaksi  \\\n",
            "0             1  Budi  28.0      Jakarta       Premium        15/01/2024   \n",
            "1             2   Ana  30.0      Jakarta       Reguler        20/01/2024   \n",
            "2             3  Cici  35.0      Bandung       Premium        01/02/2024   \n",
            "3             1  Budi  28.0      Jakarta       Premium        10/02/2024   \n",
            "4             5   NaN   NaN          NaN           NaN        12/02/2024   \n",
            "5             4  Didi  22.0      Jakarta       Premium        15/02/2024   \n",
            "\n",
            "   Total_Belanja  \n",
            "0         550000  \n",
            "1         320000  \n",
            "2         780000  \n",
            "3         250000  \n",
            "4         400000  \n",
            "5         150000  \n",
            "\n",
            "========================================\n",
            "\n"
          ]
        }
      ]
    },
    {
      "cell_type": "code",
      "source": [
        "# Contoh: Outer Join (Menggabungkan semua data, mengisi NaN jika tidak ada kecocokan)\n",
        "df_gabungan_outer = pd.merge(Id_pelanggan, ID_Transaksi, on='ID_Pelanggan', how='outer')\n",
        "print(\"--- DataFrame Gabungan (Outer Join) ---\")\n",
        "print(\"Semua data dari kedua tabel akan ada, dengan NaN untuk data yang tidak cocok.\")\n",
        "print(df_gabungan_outer)\n",
        "print(\"\\n\" + \"=\"*40 + \"\\n\")"
      ],
      "metadata": {
        "colab": {
          "base_uri": "https://localhost:8080/"
        },
        "id": "O5aTGXN6rMfB",
        "outputId": "ba69ce2c-910a-4de4-bc9e-75eb63f6ffb9"
      },
      "execution_count": 17,
      "outputs": [
        {
          "output_type": "stream",
          "name": "stdout",
          "text": [
            "--- DataFrame Gabungan (Outer Join) ---\n",
            "Semua data dari kedua tabel akan ada, dengan NaN untuk data yang tidak cocok.\n",
            "   ID_Pelanggan  Nama  Usia Kota_Tinggal Status_Member Tanggal_Transaksi  \\\n",
            "0             1  Budi  28.0      Jakarta       Premium        15/01/2024   \n",
            "1             1  Budi  28.0      Jakarta       Premium        10/02/2024   \n",
            "2             2   Ana  30.0      Jakarta       Reguler        20/01/2024   \n",
            "3             3  Cici  35.0      Bandung       Premium        01/02/2024   \n",
            "4             4  Didi  22.0      Jakarta       Premium        15/02/2024   \n",
            "5             5   NaN   NaN          NaN           NaN        12/02/2024   \n",
            "\n",
            "   Total_Belanja  \n",
            "0         550000  \n",
            "1         250000  \n",
            "2         320000  \n",
            "3         780000  \n",
            "4         150000  \n",
            "5         400000  \n",
            "\n",
            "========================================\n",
            "\n"
          ]
        }
      ]
    },
    {
      "cell_type": "markdown",
      "source": [
        "#Data transformation"
      ],
      "metadata": {
        "id": "-WFAQNMW1kS_"
      }
    },
    {
      "cell_type": "code",
      "source": [
        "from sklearn.preprocessing import MinMaxScaler, StandardScaler, LabelEncoder, OneHotEncoder\n",
        "df_tranfomed = df_gabungan_right.copy()\n",
        "print(df_tranfomed)"
      ],
      "metadata": {
        "colab": {
          "base_uri": "https://localhost:8080/"
        },
        "id": "0496TOv41nxW",
        "outputId": "969ee094-41b3-4fe7-a7fb-0a6a3d73ec67"
      },
      "execution_count": 18,
      "outputs": [
        {
          "output_type": "stream",
          "name": "stdout",
          "text": [
            "   ID_Pelanggan  Nama  Usia Kota_Tinggal Status_Member Tanggal_Transaksi  \\\n",
            "0             1  Budi  28.0      Jakarta       Premium        15/01/2024   \n",
            "1             2   Ana  30.0      Jakarta       Reguler        20/01/2024   \n",
            "2             3  Cici  35.0      Bandung       Premium        01/02/2024   \n",
            "3             1  Budi  28.0      Jakarta       Premium        10/02/2024   \n",
            "4             5   NaN   NaN          NaN           NaN        12/02/2024   \n",
            "5             4  Didi  22.0      Jakarta       Premium        15/02/2024   \n",
            "\n",
            "   Total_Belanja  \n",
            "0         550000  \n",
            "1         320000  \n",
            "2         780000  \n",
            "3         250000  \n",
            "4         400000  \n",
            "5         150000  \n"
          ]
        }
      ]
    },
    {
      "cell_type": "code",
      "source": [
        "# Untuk tujuan transformasi, kita akan mengisi NaN yang ada jika ada (misal dari hasil outer join sebelumnya)\n",
        "# Sederhanakan untuk contoh, isi dengan modus/median\n",
        "df_tranfomed['Nama'].fillna('Unknown', inplace=True)\n",
        "df_tranfomed['Usia'].fillna(df_tranfomed['Usia'].median(), inplace=True)\n",
        "df_tranfomed['Kota_Tinggal'].fillna(df_tranfomed['Kota_Tinggal'].mode()[0], inplace=True)\n",
        "df_tranfomed['Status_Member'].fillna(df_tranfomed['Status_Member'].mode()[0], inplace=True)\n",
        "df_tranfomed['Tanggal_Transaksi'].fillna('2024-01-01', inplace=True) # Tanggal harus diisi juga jika ada NaN\n",
        "df_tranfomed['Total_Belanja'].fillna(df_tranfomed['Total_Belanja'].median(), inplace=True)\n"
      ],
      "metadata": {
        "colab": {
          "base_uri": "https://localhost:8080/"
        },
        "id": "9V4jA6gL1-Ny",
        "outputId": "d8c58ac6-0a24-48b0-9f9e-87f9ebaaacd2"
      },
      "execution_count": 19,
      "outputs": [
        {
          "output_type": "stream",
          "name": "stderr",
          "text": [
            "<ipython-input-19-c86c2185c0b8>:3: FutureWarning: A value is trying to be set on a copy of a DataFrame or Series through chained assignment using an inplace method.\n",
            "The behavior will change in pandas 3.0. This inplace method will never work because the intermediate object on which we are setting values always behaves as a copy.\n",
            "\n",
            "For example, when doing 'df[col].method(value, inplace=True)', try using 'df.method({col: value}, inplace=True)' or df[col] = df[col].method(value) instead, to perform the operation inplace on the original object.\n",
            "\n",
            "\n",
            "  df_tranfomed['Nama'].fillna('Unknown', inplace=True)\n",
            "<ipython-input-19-c86c2185c0b8>:4: FutureWarning: A value is trying to be set on a copy of a DataFrame or Series through chained assignment using an inplace method.\n",
            "The behavior will change in pandas 3.0. This inplace method will never work because the intermediate object on which we are setting values always behaves as a copy.\n",
            "\n",
            "For example, when doing 'df[col].method(value, inplace=True)', try using 'df.method({col: value}, inplace=True)' or df[col] = df[col].method(value) instead, to perform the operation inplace on the original object.\n",
            "\n",
            "\n",
            "  df_tranfomed['Usia'].fillna(df_tranfomed['Usia'].median(), inplace=True)\n",
            "<ipython-input-19-c86c2185c0b8>:5: FutureWarning: A value is trying to be set on a copy of a DataFrame or Series through chained assignment using an inplace method.\n",
            "The behavior will change in pandas 3.0. This inplace method will never work because the intermediate object on which we are setting values always behaves as a copy.\n",
            "\n",
            "For example, when doing 'df[col].method(value, inplace=True)', try using 'df.method({col: value}, inplace=True)' or df[col] = df[col].method(value) instead, to perform the operation inplace on the original object.\n",
            "\n",
            "\n",
            "  df_tranfomed['Kota_Tinggal'].fillna(df_tranfomed['Kota_Tinggal'].mode()[0], inplace=True)\n",
            "<ipython-input-19-c86c2185c0b8>:6: FutureWarning: A value is trying to be set on a copy of a DataFrame or Series through chained assignment using an inplace method.\n",
            "The behavior will change in pandas 3.0. This inplace method will never work because the intermediate object on which we are setting values always behaves as a copy.\n",
            "\n",
            "For example, when doing 'df[col].method(value, inplace=True)', try using 'df.method({col: value}, inplace=True)' or df[col] = df[col].method(value) instead, to perform the operation inplace on the original object.\n",
            "\n",
            "\n",
            "  df_tranfomed['Status_Member'].fillna(df_tranfomed['Status_Member'].mode()[0], inplace=True)\n",
            "<ipython-input-19-c86c2185c0b8>:7: FutureWarning: A value is trying to be set on a copy of a DataFrame or Series through chained assignment using an inplace method.\n",
            "The behavior will change in pandas 3.0. This inplace method will never work because the intermediate object on which we are setting values always behaves as a copy.\n",
            "\n",
            "For example, when doing 'df[col].method(value, inplace=True)', try using 'df.method({col: value}, inplace=True)' or df[col] = df[col].method(value) instead, to perform the operation inplace on the original object.\n",
            "\n",
            "\n",
            "  df_tranfomed['Tanggal_Transaksi'].fillna('2024-01-01', inplace=True) # Tanggal harus diisi juga jika ada NaN\n",
            "<ipython-input-19-c86c2185c0b8>:8: FutureWarning: A value is trying to be set on a copy of a DataFrame or Series through chained assignment using an inplace method.\n",
            "The behavior will change in pandas 3.0. This inplace method will never work because the intermediate object on which we are setting values always behaves as a copy.\n",
            "\n",
            "For example, when doing 'df[col].method(value, inplace=True)', try using 'df.method({col: value}, inplace=True)' or df[col] = df[col].method(value) instead, to perform the operation inplace on the original object.\n",
            "\n",
            "\n",
            "  df_tranfomed['Total_Belanja'].fillna(df_tranfomed['Total_Belanja'].median(), inplace=True)\n"
          ]
        }
      ]
    },
    {
      "cell_type": "code",
      "source": [
        "print(\"--- DataFrame Awal untuk Transformasi ---\")\n",
        "print(df_tranfomed)\n",
        "print(\"\\n\" + \"=\"*50 + \"\\n\")"
      ],
      "metadata": {
        "colab": {
          "base_uri": "https://localhost:8080/"
        },
        "id": "2KSymZ1i9BeQ",
        "outputId": "64a97847-9540-4554-d3c3-68944d90ffab"
      },
      "execution_count": 20,
      "outputs": [
        {
          "output_type": "stream",
          "name": "stdout",
          "text": [
            "--- DataFrame Awal untuk Transformasi ---\n",
            "   ID_Pelanggan     Nama  Usia Kota_Tinggal Status_Member Tanggal_Transaksi  \\\n",
            "0             1     Budi  28.0      Jakarta       Premium        15/01/2024   \n",
            "1             2      Ana  30.0      Jakarta       Reguler        20/01/2024   \n",
            "2             3     Cici  35.0      Bandung       Premium        01/02/2024   \n",
            "3             1     Budi  28.0      Jakarta       Premium        10/02/2024   \n",
            "4             5  Unknown  28.0      Jakarta       Premium        12/02/2024   \n",
            "5             4     Didi  22.0      Jakarta       Premium        15/02/2024   \n",
            "\n",
            "   Total_Belanja  \n",
            "0         550000  \n",
            "1         320000  \n",
            "2         780000  \n",
            "3         250000  \n",
            "4         400000  \n",
            "5         150000  \n",
            "\n",
            "==================================================\n",
            "\n"
          ]
        }
      ]
    },
    {
      "cell_type": "code",
      "source": [
        "# --- 1. Normalisasi/Standardisasi Data Numerik ---\n",
        "\n",
        "# Kita akan menormalisasi kolom 'Usia', 'Pendapatan (juta)', dan 'Total Belanja'.\n",
        "\n",
        "# a. Normalisasi (Min-Max Scaling): Skala 0-1\n",
        "min_max_scaler = MinMaxScaler()\n",
        "df_tranfomed['Usia_Normalized'] = min_max_scaler.fit_transform(df_tranfomed[['Usia']])\n",
        "df_tranfomed['Total_Belanja_Normalized'] = min_max_scaler.fit_transform(df_tranfomed[['Total_Belanja']])\n",
        "\n",
        "print(\"--- DataFrame Setelah Normalisasi (Min-Max Scaling) ---\")\n",
        "print(df_tranfomed[['Usia', 'Usia_Normalized',  'Total_Belanja', 'Total_Belanja_Normalized']].head())\n",
        "print(\"\\n\" + \"=\"*50 + \"\\n\")\n"
      ],
      "metadata": {
        "colab": {
          "base_uri": "https://localhost:8080/"
        },
        "id": "LtYoynhM-7TL",
        "outputId": "f612fc54-0659-4dcd-d877-c3f9559a251d"
      },
      "execution_count": 21,
      "outputs": [
        {
          "output_type": "stream",
          "name": "stdout",
          "text": [
            "--- DataFrame Setelah Normalisasi (Min-Max Scaling) ---\n",
            "   Usia  Usia_Normalized  Total_Belanja  Total_Belanja_Normalized\n",
            "0  28.0         0.461538         550000                  0.634921\n",
            "1  30.0         0.615385         320000                  0.269841\n",
            "2  35.0         1.000000         780000                  1.000000\n",
            "3  28.0         0.461538         250000                  0.158730\n",
            "4  28.0         0.461538         400000                  0.396825\n",
            "\n",
            "==================================================\n",
            "\n"
          ]
        }
      ]
    },
    {
      "cell_type": "code",
      "source": [
        "# b. Standardisasi (Z-score Normalization): Rata-rata 0, Std Deviasi 1\n",
        "standard_scaler = StandardScaler()\n",
        "df_tranfomed['Usia_Standardized'] = standard_scaler.fit_transform(df_tranfomed[['Usia']])\n",
        "df_tranfomed['Total_Belanja_Standardized'] = standard_scaler.fit_transform(df_tranfomed[['Total_Belanja']])\n",
        "\n",
        "print(\"--- DataFrame Setelah Standardisasi (Z-score Normalization) ---\")\n",
        "print(df_tranfomed[['Usia', 'Usia_Standardized', 'Total_Belanja', 'Total_Belanja_Standardized']].head())\n",
        "print(\"\\n\" + \"=\"*50 + \"\\n\")"
      ],
      "metadata": {
        "colab": {
          "base_uri": "https://localhost:8080/"
        },
        "id": "fB4fPtGiuLpp",
        "outputId": "69ecae27-c83a-47af-b1c8-40ae7d90835b"
      },
      "execution_count": 24,
      "outputs": [
        {
          "output_type": "stream",
          "name": "stdout",
          "text": [
            "--- DataFrame Setelah Standardisasi (Z-score Normalization) ---\n",
            "   Usia  Usia_Standardized  Total_Belanja  Total_Belanja_Standardized\n",
            "0  28.0          -0.130931         550000                    0.683332\n",
            "1  30.0           0.392792         320000                   -0.426078\n",
            "2  35.0           1.702100         780000                    1.792741\n",
            "3  28.0          -0.130931         250000                   -0.763724\n",
            "4  28.0          -0.130931         400000                   -0.040196\n",
            "\n",
            "==================================================\n",
            "\n"
          ]
        }
      ]
    },
    {
      "cell_type": "code",
      "source": [
        "# --- 2. Encoding Data Kategorikal ---\n",
        "\n",
        "# Kita akan meng-encode kolom 'Kota Tinggal' dan 'Status Member'.\n",
        "\n",
        "# a. Label Encoding (Cocok untuk Ordinal, tapi bisa juga untuk Nominal jika tidak terlalu banyak kategori dan tidak ada asumsi urutan)\n",
        "label_encoder = LabelEncoder()\n",
        "df_tranfomed['Status_Member_Encoded'] = label_encoder.fit_transform(df_tranfomed['Status_Member'])\n",
        "\n",
        "print(\"--- DataFrame Setelah Label Encoding 'Status Member' ---\")\n",
        "print(df_tranfomed[['Status_Member', 'Status_Member_Encoded']])\n",
        "print(f\"Mapping Label Encoding: {list(label_encoder.classes_)} -> {np.unique(df_tranfomed['Status_Member_Encoded'])}\")\n",
        "print(\"\\n\" + \"=\"*50 + \"\\n\")"
      ],
      "metadata": {
        "colab": {
          "base_uri": "https://localhost:8080/"
        },
        "id": "t0n0dnuOk5cG",
        "outputId": "5b7d3aa4-283c-4466-f608-a9c25884b6e3"
      },
      "execution_count": 30,
      "outputs": [
        {
          "output_type": "stream",
          "name": "stdout",
          "text": [
            "--- DataFrame Setelah Label Encoding 'Status Member' ---\n",
            "  Status_Member  Status_Member_Encoded\n",
            "0       Premium                      0\n",
            "1       Reguler                      1\n",
            "2       Premium                      0\n",
            "3       Premium                      0\n",
            "4       Premium                      0\n",
            "5       Premium                      0\n",
            "Mapping Label Encoding: ['Premium', 'Reguler'] -> [0 1]\n",
            "\n",
            "==================================================\n",
            "\n"
          ]
        }
      ]
    },
    {
      "cell_type": "code",
      "source": [
        "# b. One-Hot Encoding (Sangat direkomendasikan untuk Nominal agar tidak ada asumsi urutan)\n",
        "# Untuk 'Kota Tinggal'\n",
        "one_hot_encoder = OneHotEncoder(sparse_output=False) # sparse_output=False agar hasilnya DataFrame, bukan sparse matrix\n",
        "# Fit dan transform sekaligus, lalu gabungkan dengan DataFrame asli\n",
        "kota_encoded = one_hot_encoder.fit_transform(df_tranfomed[['Kota_Tinggal']])\n",
        "df_kota_encoded = pd.DataFrame(kota_encoded, columns=one_hot_encoder.get_feature_names_out(['Kota_Tinggal']))\n",
        "df_transformed = pd.concat([df_tranfomed, df_kota_encoded], axis=1)\n",
        "\n",
        "print(\"--- DataFrame Setelah One-Hot Encoding 'Kota Tinggal' ---\")\n",
        "print(df_transformed[['Kota_Tinggal', 'Kota_Tinggal_Bandung']])\n",
        "print(\"\\n\" + \"=\"*50 + \"\\n\")"
      ],
      "metadata": {
        "colab": {
          "base_uri": "https://localhost:8080/"
        },
        "id": "i8t5JPT1mxz7",
        "outputId": "b32ce33d-fb7b-49cd-d65b-4a9dfa79914b"
      },
      "execution_count": 34,
      "outputs": [
        {
          "output_type": "stream",
          "name": "stdout",
          "text": [
            "--- DataFrame Setelah One-Hot Encoding 'Kota Tinggal' ---\n",
            "  Kota_Tinggal  Kota_Tinggal_Bandung\n",
            "0      Jakarta                   0.0\n",
            "1      Jakarta                   0.0\n",
            "2      Bandung                   1.0\n",
            "3      Jakarta                   0.0\n",
            "4      Jakarta                   0.0\n",
            "5      Jakarta                   0.0\n",
            "\n",
            "==================================================\n",
            "\n"
          ]
        }
      ]
    },
    {
      "cell_type": "code",
      "source": [
        "# --- 3. Contoh Sederhana Feature Engineering (Agregasi atau Derivasi) ---\n",
        "\n",
        "# Membuat fitur baru: Rata-rata Belanja per Usia\n",
        "df_tranfomed['Rata_Belanja_per_Usia'] = df_tranfomed['Total_Belanja'] / df_tranfomed['Usia']\n",
        "\n",
        "# Mengubah 'Tanggal Transaksi' menjadi fitur yang lebih berguna (misalnya, Bulan, Hari dalam Seminggu)\n",
        "df_tranfomed['Tanggal_Transaksi'] = pd.to_datetime(df_tranfomed['Tanggal_Transaksi'])\n",
        "df_tranfomed['Bulan_Transaksi'] = df_tranfomed['Tanggal_Transaksi'].dt.month\n",
        "df_tranfomed['Hari_Dalam_Minggu_Transaksi'] = df_tranfomed['Tanggal_Transaksi'].dt.day_name()\n",
        "# Menampilkan fitur hasil feature engineering\n",
        "print(\"--- DataFrame Setelah Feature Engineering ---\")\n",
        "print(df_tranfomed[['Tanggal_Transaksi', 'Bulan_Transaksi', 'Hari_Dalam_Minggu_Transaksi', 'Total_Belanja', 'Usia', 'Rata_Belanja_per_Usia']].head())\n",
        "print(\"\\n\" + \"=\"*50 + \"\\n\")"
      ],
      "metadata": {
        "colab": {
          "base_uri": "https://localhost:8080/"
        },
        "id": "n9n-radTt9b3",
        "outputId": "9c4ae6de-1cb5-477b-c521-0d1a4ccea4e2"
      },
      "execution_count": 40,
      "outputs": [
        {
          "output_type": "stream",
          "name": "stdout",
          "text": [
            "--- DataFrame Setelah Feature Engineering ---\n",
            "  Tanggal_Transaksi  Bulan_Transaksi Hari_Dalam_Minggu_Transaksi  \\\n",
            "0        2024-01-15                1                      Monday   \n",
            "1        2024-01-20                1                    Saturday   \n",
            "2        2024-02-01                2                    Thursday   \n",
            "3        2024-02-10                2                    Saturday   \n",
            "4        2024-02-12                2                      Monday   \n",
            "\n",
            "   Total_Belanja  Usia  Rata_Belanja_per_Usia  \n",
            "0         550000  28.0           19642.857143  \n",
            "1         320000  30.0           10666.666667  \n",
            "2         780000  35.0           22285.714286  \n",
            "3         250000  28.0            8928.571429  \n",
            "4         400000  28.0           14285.714286  \n",
            "\n",
            "==================================================\n",
            "\n"
          ]
        },
        {
          "output_type": "stream",
          "name": "stderr",
          "text": [
            "<ipython-input-40-a903f423f0da>:7: UserWarning: Parsing dates in %d/%m/%Y format when dayfirst=False (the default) was specified. Pass `dayfirst=True` or specify a format to silence this warning.\n",
            "  df_tranfomed['Tanggal_Transaksi'] = pd.to_datetime(df_tranfomed['Tanggal_Transaksi'])\n"
          ]
        }
      ]
    },
    {
      "cell_type": "code",
      "source": [
        "from sklearn.feature_selection import SelectKBest, f_classif # Untuk contoh seleksi fitur\n",
        "from sklearn.decomposition import PCA\n",
        "# PCA sensitif terhadap skala, jadi kita standardisasi dulu\n",
        "\n",
        "data_reducted = pd.read_csv('df_reduction.csv')\n",
        "print(data_reducted)"
      ],
      "metadata": {
        "colab": {
          "base_uri": "https://localhost:8080/"
        },
        "id": "Nvc3LWVDwvm2",
        "outputId": "97ebfd99-078e-4159-e93f-952f9c6616e8"
      },
      "execution_count": 49,
      "outputs": [
        {
          "output_type": "stream",
          "name": "stdout",
          "text": [
            "   ID Pelanggan  Usia_Normalized  Pendapatan_Standardized  \\\n",
            "0             1             0.33                     -0.8   \n",
            "1             2             0.50                     -0.6   \n",
            "2             3             0.75                     -0.2   \n",
            "3             4             0.00                     -1.2   \n",
            "4             6             1.00                      1.5   \n",
            "5             7             0.50                     -0.7   \n",
            "6             8             0.50                     -0.5   \n",
            "7             5             0.50                     -0.6   \n",
            "\n",
            "   Total_Belanja_Normalized  Status_Member_Encoded  Kota Tinggal_Bandung  \\\n",
            "0                       0.4                      0                     0   \n",
            "1                       0.1                      1                     0   \n",
            "2                       0.7                      0                     1   \n",
            "3                       0.0                      0                     0   \n",
            "4                       1.0                      0                     0   \n",
            "5                       0.5                      1                     0   \n",
            "6                       0.3                      1                     0   \n",
            "7                       0.2                      0                     0   \n",
            "\n",
            "   Kota Tinggal_Jakarta  Kota Tinggal_Medan  Kota Tinggal_Surabaya  \\\n",
            "0                     1                   0                      0   \n",
            "1                     1                   0                      0   \n",
            "2                     0                   0                      0   \n",
            "3                     1                   0                      0   \n",
            "4                     1                   0                      0   \n",
            "5                     0                   0                      1   \n",
            "6                     0                   1                      0   \n",
            "7                     1                   0                      0   \n",
            "\n",
            "   Rata_Belanja_per_Usia  Bulan_Transaksi  Fitur_Dummy_1  Fitur_Dummy_2  \\\n",
            "0                  19642                1       0.824616       1.445496   \n",
            "1                  10666                1       0.787840       3.494052   \n",
            "2                  22285                2       0.930160       0.597765   \n",
            "3                   6818                2       0.125002       3.023435   \n",
            "4                  22500                2       0.804958       9.279788   \n",
            "5                  20000                2       0.744729       4.430155   \n",
            "6                  15000                1       0.555775       1.014761   \n",
            "7                  13333                2       0.981629       7.169554   \n",
            "\n",
            "   Fitur_Dummy_3  Target_Class  \n",
            "0      20.797254             0  \n",
            "1      61.603480             1  \n",
            "2      71.816131             0  \n",
            "3      52.537443             0  \n",
            "4      54.631581             0  \n",
            "5      48.722327             1  \n",
            "6      52.192192             1  \n",
            "7      57.821203             0  \n"
          ]
        }
      ]
    },
    {
      "cell_type": "code",
      "source": [
        "data_reducted.shape"
      ],
      "metadata": {
        "colab": {
          "base_uri": "https://localhost:8080/"
        },
        "id": "kbvtDG8b6f9e",
        "outputId": "57e92c1b-aba7-44f4-9f00-c17292d4a1ae"
      },
      "execution_count": 55,
      "outputs": [
        {
          "output_type": "execute_result",
          "data": {
            "text/plain": [
              "(8, 15)"
            ]
          },
          "metadata": {},
          "execution_count": 55
        }
      ]
    },
    {
      "cell_type": "code",
      "source": [
        "# --- 1. Reduksi Dimensi Menggunakan PCA ---\n",
        "\n",
        "# PCA sangat sensitif terhadap skala, jadi kita standardisasi dulu fitur numeriknya.\n",
        "# Kita akan pilih kolom numerik yang akan diproses oleh PCA.\n",
        "# Hindari kolom ID dan Target_Class dalam PCA.\n",
        "features_for_pca = [\n",
        "    'Usia_Normalized', 'Pendapatan_Standardized', 'Total_Belanja_Normalized',\n",
        "    'Rata_Belanja_per_Usia', 'Bulan_Transaksi',\n",
        "    'Fitur_Dummy_1', 'Fitur_Dummy_2', 'Fitur_Dummy_3'\n",
        "]\n",
        "\n",
        "# Ambil data fitur yang akan di-PCA\n",
        "X_pca = df_reduction[features_for_pca]"
      ],
      "metadata": {
        "id": "AvwaBXdExFUQ"
      },
      "execution_count": 47,
      "outputs": []
    },
    {
      "cell_type": "code",
      "source": [
        "# Penting: Scale data sebelum PCA jika belum discale dengan StandardScaler\n",
        "scaler_pca = StandardScaler()\n",
        "X_pca_scaled = scaler_pca.fit_transform(X_pca)"
      ],
      "metadata": {
        "id": "3fBKzZJP38FI"
      },
      "execution_count": 51,
      "outputs": []
    },
    {
      "cell_type": "code",
      "source": [
        "# Tentukan berapa komponen utama yang ingin diambil\n",
        "# Misal, kita ingin mengurangi dari 8 fitur numerik menjadi 3 komponen utama.\n",
        "pca = PCA(n_components=3)\n",
        "principal_components = pca.fit_transform(X_pca_scaled)\n",
        "\n",
        "# Buat DataFrame dari komponen utama\n",
        "df_principal_components = pd.DataFrame(data=principal_components,\n",
        "                                       columns=['PC1', 'PC2', 'PC3'])"
      ],
      "metadata": {
        "id": "W_UJzokz3hwQ"
      },
      "execution_count": 52,
      "outputs": []
    },
    {
      "cell_type": "code",
      "source": [
        "# Gabungkan komponen utama dengan ID Pelanggan dan kolom kategorikal/target lainnya\n",
        "# Pastikan index sesuai jika menggabungkan\n",
        "df_reduced_pca = pd.concat([df_reduction[['ID Pelanggan', 'Status_Member_Encoded',\n",
        "                                          'Kota Tinggal_Bandung', 'Kota Tinggal_Jakarta',\n",
        "                                          'Kota Tinggal_Medan', 'Kota Tinggal_Surabaya', 'Target_Class']],\n",
        "                            df_principal_components], axis=1)"
      ],
      "metadata": {
        "id": "DWJMoSzn4Ayv"
      },
      "execution_count": 53,
      "outputs": []
    },
    {
      "cell_type": "code",
      "source": [
        "print(\"--- DataFrame Setelah Reduksi Dimensi (PCA) ---\")\n",
        "print(df_reduced_pca.head())\n",
        "print(f\"Jumlah kolom setelah PCA: {df_reduced_pca.shape[1]}\")\n",
        "print(\"\\n\" + \"=\"*60 + \"\\n\")"
      ],
      "metadata": {
        "colab": {
          "base_uri": "https://localhost:8080/"
        },
        "id": "KgyWdeQf4EmD",
        "outputId": "e60bba4f-e681-4731-893f-9780ba19f656"
      },
      "execution_count": 54,
      "outputs": [
        {
          "output_type": "stream",
          "name": "stdout",
          "text": [
            "--- DataFrame Setelah Reduksi Dimensi (PCA) ---\n",
            "   ID Pelanggan  Status_Member_Encoded  Kota Tinggal_Bandung  \\\n",
            "0             1                      0                     0   \n",
            "1             2                      1                     0   \n",
            "2             3                      0                     1   \n",
            "3             4                      0                     0   \n",
            "4             6                      0                     0   \n",
            "\n",
            "   Kota Tinggal_Jakarta  Kota Tinggal_Medan  Kota Tinggal_Surabaya  \\\n",
            "0                     1                   0                      0   \n",
            "1                     1                   0                      0   \n",
            "2                     0                   0                      0   \n",
            "3                     1                   0                      0   \n",
            "4                     1                   0                      0   \n",
            "\n",
            "   Target_Class       PC1       PC2       PC3  \n",
            "0             0 -0.928937 -2.624683 -0.995787  \n",
            "1             1 -1.096700 -0.046028  0.909870  \n",
            "2             0  1.706655 -0.050094  1.815769  \n",
            "3             0 -3.308489  1.813378 -0.716870  \n",
            "4             0  4.053119  0.613961 -1.166701  \n",
            "Jumlah kolom setelah PCA: 10\n",
            "\n",
            "============================================================\n",
            "\n"
          ]
        }
      ]
    },
    {
      "cell_type": "code",
      "source": [
        "from sklearn.feature_selection import SelectKBest, f_classif"
      ],
      "metadata": {
        "id": "fop5-Lq36_5Z"
      },
      "execution_count": 56,
      "outputs": []
    },
    {
      "cell_type": "code",
      "source": [
        "# --- 2. Feature Selection (Contoh Sederhana: SelectKBest) ---\n",
        "# Jika kita ingin memilih fitur paling penting untuk target klasifikasi\n",
        "\n",
        "# Pilih fitur-fitur kandidat (selain ID Pelanggan dan Target_Class)\n",
        "features_for_selection = df_reduction.drop(columns=['ID Pelanggan', 'Target_Class']).columns\n",
        "X_fs = df_reduction[features_for_selection]\n",
        "y_fs = df_reduction['Target_Class'] # Kolom target kita"
      ],
      "metadata": {
        "id": "4wdCI9o88ZKN"
      },
      "execution_count": 58,
      "outputs": []
    },
    {
      "cell_type": "code",
      "source": [
        "# Menggunakan SelectKBest dengan ANOVA F-value untuk klasifikasi\n",
        "# Pilih 5 fitur terbaik\n",
        "selector = SelectKBest(score_func=f_classif, k=5)\n",
        "X_selected = selector.fit_transform(X_fs, y_fs)\n"
      ],
      "metadata": {
        "colab": {
          "base_uri": "https://localhost:8080/"
        },
        "id": "SlhvMkdd8u1x",
        "outputId": "4e59e5c8-aede-4dc6-a363-58cab7537be4"
      },
      "execution_count": 59,
      "outputs": [
        {
          "output_type": "stream",
          "name": "stderr",
          "text": [
            "/usr/local/lib/python3.11/dist-packages/sklearn/feature_selection/_univariate_selection.py:112: RuntimeWarning: divide by zero encountered in divide\n",
            "  f = msb / msw\n"
          ]
        }
      ]
    },
    {
      "cell_type": "code",
      "source": [
        "# Mendapatkan nama-nama fitur yang dipilih\n",
        "selected_feature_names = X_fs.columns[selector.get_support()]\n",
        "\n",
        "# Buat DataFrame dari fitur yang dipilih\n",
        "df_selected_features = pd.DataFrame(X_selected, columns=selected_feature_names)\n",
        "\n",
        "# Gabungkan dengan ID Pelanggan dan Target_Class\n",
        "df_reduced_fs = pd.concat([df_reduction[['ID Pelanggan', 'Target_Class']], df_selected_features], axis=1)"
      ],
      "metadata": {
        "id": "yG0rYF878zpz"
      },
      "execution_count": 60,
      "outputs": []
    },
    {
      "cell_type": "code",
      "source": [
        "print(\"--- DataFrame Setelah Feature Selection (SelectKBest) ---\")\n",
        "print(df_reduced_fs.head())\n",
        "print(f\"Fitur yang dipilih: {list(selected_feature_names)}\")\n",
        "print(f\"Jumlah kolom setelah Feature Selection: {df_reduced_fs.shape[1]}\")\n",
        "print(\"\\n\" + \"=\"*60 + \"\\n\")"
      ],
      "metadata": {
        "colab": {
          "base_uri": "https://localhost:8080/"
        },
        "id": "55wW-lcw83ws",
        "outputId": "28ae336e-5ff4-43fb-f35c-9fcf5b30085b"
      },
      "execution_count": 61,
      "outputs": [
        {
          "output_type": "stream",
          "name": "stdout",
          "text": [
            "--- DataFrame Setelah Feature Selection (SelectKBest) ---\n",
            "   ID Pelanggan  Target_Class  Status_Member_Encoded  Kota Tinggal_Jakarta  \\\n",
            "0             1             0                    0.0                   1.0   \n",
            "1             2             1                    1.0                   1.0   \n",
            "2             3             0                    0.0                   0.0   \n",
            "3             4             0                    0.0                   1.0   \n",
            "4             6             0                    0.0                   1.0   \n",
            "\n",
            "   Kota Tinggal_Medan  Kota Tinggal_Surabaya  Bulan_Transaksi  \n",
            "0                 0.0                    0.0              1.0  \n",
            "1                 0.0                    0.0              1.0  \n",
            "2                 0.0                    0.0              2.0  \n",
            "3                 0.0                    0.0              2.0  \n",
            "4                 0.0                    0.0              2.0  \n",
            "Fitur yang dipilih: ['Status_Member_Encoded', 'Kota Tinggal_Jakarta', 'Kota Tinggal_Medan', 'Kota Tinggal_Surabaya', 'Bulan_Transaksi']\n",
            "Jumlah kolom setelah Feature Selection: 7\n",
            "\n",
            "============================================================\n",
            "\n"
          ]
        }
      ]
    }
  ]
}