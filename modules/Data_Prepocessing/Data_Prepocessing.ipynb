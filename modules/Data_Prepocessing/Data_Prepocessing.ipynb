{
  "nbformat": 4,
  "nbformat_minor": 0,
  "metadata": {
    "colab": {
      "provenance": [],
      "authorship_tag": "ABX9TyNnFnDYohkOi9a23SlJ2Lhj",
      "include_colab_link": true
    },
    "kernelspec": {
      "name": "python3",
      "display_name": "Python 3"
    },
    "language_info": {
      "name": "python"
    }
  },
  "cells": [
    {
      "cell_type": "markdown",
      "metadata": {
        "id": "view-in-github",
        "colab_type": "text"
      },
      "source": [
        "<a href=\"https://colab.research.google.com/github/ihyaulumuddin044/Pengantar_ML/blob/main/modules/Data_Prepocessing/Data_Prepocessing.ipynb\" target=\"_parent\"><img src=\"https://colab.research.google.com/assets/colab-badge.svg\" alt=\"Open In Colab\"/></a>"
      ]
    },
    {
      "cell_type": "code",
      "source": [
        "import pandas as pd\n",
        "import numpy as np\n",
        "\n",
        "# --- 1. Membuat Dataset Mentah ---\n",
        "data = {\n",
        "    'ID Pelanggan': [1, 2, 3, 4, 5, 6, 7, 8],\n",
        "    'Nama': ['Budi', 'Ana', 'Cici', 'Didi', 'Budi', 'Eka', 'Fafa', 'Ana'],\n",
        "    'Usia': [28, '-', 35, 22, 28, 40, np.nan, 30], # np.nan adalah representasi Missing Value\n",
        "    'Kota Tinggal': ['Jakarta', np.nan, 'Bandung', 'jakarta', 'Jakarta', np.nan, 'Surabaya', 'Medan'],\n",
        "    'Pendapatan (juta)': [5.5, '-', 7.25, 4.0, 5.5, 12.0, 6.0, 6.5],\n",
        "    'Status Member': ['Premium', 'Reguler', 'Premium', '-', 'Premium', 'Premium', 'Reguler', 'Reguler']\n",
        "}\n",
        "df = pd.DataFrame(data)\n",
        "\n",
        "print(\"--- Dataset Mentah Awal ---\")\n",
        "print(df)\n",
        "print(\"\\n--- missing values ---\")\n",
        "print(df.isnull().sum())"
      ],
      "metadata": {
        "colab": {
          "base_uri": "https://localhost:8080/"
        },
        "id": "42JONKcM_t_P",
        "outputId": "10d75d26-b382-4b47-83e9-da5ef2a8cec3"
      },
      "execution_count": 12,
      "outputs": [
        {
          "output_type": "stream",
          "name": "stdout",
          "text": [
            "--- Dataset Mentah Awal ---\n",
            "   ID Pelanggan  Nama Usia Kota Tinggal Pendapatan (juta) Status Member\n",
            "0             1  Budi   28      Jakarta               5.5       Premium\n",
            "1             2   Ana    -          NaN                 -       Reguler\n",
            "2             3  Cici   35      Bandung              7.25       Premium\n",
            "3             4  Didi   22      jakarta               4.0             -\n",
            "4             5  Budi   28      Jakarta               5.5       Premium\n",
            "5             6   Eka   40          NaN              12.0       Premium\n",
            "6             7  Fafa  NaN     Surabaya               6.0       Reguler\n",
            "7             8   Ana   30        Medan               6.5       Reguler\n",
            "\n",
            "--- missing values ---\n",
            "ID Pelanggan         0\n",
            "Nama                 0\n",
            "Usia                 1\n",
            "Kota Tinggal         2\n",
            "Pendapatan (juta)    0\n",
            "Status Member        0\n",
            "dtype: int64\n"
          ]
        }
      ]
    },
    {
      "cell_type": "code",
      "execution_count": 13,
      "metadata": {
        "colab": {
          "base_uri": "https://localhost:8080/"
        },
        "id": "PiyMVqAd8Yph",
        "outputId": "505df3cc-5fb7-46af-aa28-aa2afd20c261"
      },
      "outputs": [
        {
          "output_type": "stream",
          "name": "stdout",
          "text": [
            "--- Setelah Mengganti '-' dengan NaN ---\n",
            "   ID Pelanggan  Nama  Usia Kota Tinggal  Pendapatan (juta) Status Member\n",
            "0             1  Budi  28.0      Jakarta               5.50       Premium\n",
            "1             2   Ana   NaN          NaN                NaN       Reguler\n",
            "2             3  Cici  35.0      Bandung               7.25       Premium\n",
            "3             4  Didi  22.0      jakarta               4.00           NaN\n",
            "4             5  Budi  28.0      Jakarta               5.50       Premium\n",
            "5             6   Eka  40.0          NaN              12.00       Premium\n",
            "6             7  Fafa   NaN     Surabaya               6.00       Reguler\n",
            "7             8   Ana  30.0        Medan               6.50       Reguler\n",
            "\n",
            "========================================\n",
            "\n",
            "--- Jumlah Missing Values di Setiap Kolom ---\n",
            "ID Pelanggan         0\n",
            "Nama                 0\n",
            "Usia                 2\n",
            "Kota Tinggal         2\n",
            "Pendapatan (juta)    1\n",
            "Status Member        1\n",
            "dtype: int64\n",
            "\n",
            "========================================\n",
            "\n",
            "--- Setelah Mengisi Missing Values ---\n",
            "   ID Pelanggan  Nama  Usia Kota Tinggal  Pendapatan (juta) Status Member\n",
            "0             1  Budi  28.0      Jakarta               5.50       Premium\n",
            "1             2   Ana  29.0      Jakarta               6.00       Reguler\n",
            "2             3  Cici  35.0      Bandung               7.25       Premium\n",
            "3             4  Didi  22.0      jakarta               4.00       Premium\n",
            "4             5  Budi  28.0      Jakarta               5.50       Premium\n",
            "5             6   Eka  40.0      Jakarta              12.00       Premium\n",
            "6             7  Fafa  29.0     Surabaya               6.00       Reguler\n",
            "7             8   Ana  30.0        Medan               6.50       Reguler\n",
            "\n",
            "========================================\n",
            "\n",
            "--- Setelah Standardisasi 'Kota Tinggal' ---\n",
            "   ID Pelanggan  Nama  Usia Kota Tinggal  Pendapatan (juta) Status Member\n",
            "0             1  Budi  28.0      Jakarta               5.50       Premium\n",
            "1             2   Ana  29.0      Jakarta               6.00       Reguler\n",
            "2             3  Cici  35.0      Bandung               7.25       Premium\n",
            "3             4  Didi  22.0      Jakarta               4.00       Premium\n",
            "4             5  Budi  28.0      Jakarta               5.50       Premium\n",
            "5             6   Eka  40.0      Jakarta              12.00       Premium\n",
            "6             7  Fafa  29.0     Surabaya               6.00       Reguler\n",
            "7             8   Ana  30.0        Medan               6.50       Reguler\n",
            "\n",
            "========================================\n",
            "\n",
            "--- Setelah Menghapus Duplikasi ---\n",
            "   ID Pelanggan  Nama  Usia Kota Tinggal  Pendapatan (juta) Status Member\n",
            "0             1  Budi  28.0      Jakarta               5.50       Premium\n",
            "1             2   Ana  29.0      Jakarta               6.00       Reguler\n",
            "2             3  Cici  35.0      Bandung               7.25       Premium\n",
            "3             4  Didi  22.0      Jakarta               4.00       Premium\n",
            "4             5  Budi  28.0      Jakarta               5.50       Premium\n",
            "5             6   Eka  40.0      Jakarta              12.00       Premium\n",
            "6             7  Fafa  29.0     Surabaya               6.00       Reguler\n",
            "7             8   Ana  30.0        Medan               6.50       Reguler\n",
            "\n",
            "========================================\n",
            "\n",
            "--- Dataframe Akhir Setelah Cleaning ---\n",
            "   ID Pelanggan  Nama  Usia Kota Tinggal  Pendapatan (juta) Status Member\n",
            "0             1  Budi  28.0      Jakarta               5.50       Premium\n",
            "1             2   Ana  29.0      Jakarta               6.00       Reguler\n",
            "2             3  Cici  35.0      Bandung               7.25       Premium\n",
            "3             4  Didi  22.0      Jakarta               4.00       Premium\n",
            "4             5  Budi  28.0      Jakarta               5.50       Premium\n",
            "5             6   Eka  40.0      Jakarta              12.00       Premium\n",
            "6             7  Fafa  29.0     Surabaya               6.00       Reguler\n",
            "7             8   Ana  30.0        Medan               6.50       Reguler\n",
            "\n",
            "Jumlah baris setelah cleaning: 8\n",
            "Jumlah missing values setelah cleaning:\n",
            " ID Pelanggan         0\n",
            "Nama                 0\n",
            "Usia                 0\n",
            "Kota Tinggal         0\n",
            "Pendapatan (juta)    0\n",
            "Status Member        0\n",
            "dtype: int64\n"
          ]
        },
        {
          "output_type": "stream",
          "name": "stderr",
          "text": [
            "<ipython-input-13-5d7f2fc63228>:5: FutureWarning: Downcasting behavior in `replace` is deprecated and will be removed in a future version. To retain the old behavior, explicitly call `result.infer_objects(copy=False)`. To opt-in to the future behavior, set `pd.set_option('future.no_silent_downcasting', True)`\n",
            "  df.replace('-', np.nan, inplace=True)\n",
            "<ipython-input-13-5d7f2fc63228>:20: FutureWarning: A value is trying to be set on a copy of a DataFrame or Series through chained assignment using an inplace method.\n",
            "The behavior will change in pandas 3.0. This inplace method will never work because the intermediate object on which we are setting values always behaves as a copy.\n",
            "\n",
            "For example, when doing 'df[col].method(value, inplace=True)', try using 'df.method({col: value}, inplace=True)' or df[col] = df[col].method(value) instead, to perform the operation inplace on the original object.\n",
            "\n",
            "\n",
            "  df['Usia'].fillna(median_usia, inplace=True)\n",
            "<ipython-input-13-5d7f2fc63228>:24: FutureWarning: A value is trying to be set on a copy of a DataFrame or Series through chained assignment using an inplace method.\n",
            "The behavior will change in pandas 3.0. This inplace method will never work because the intermediate object on which we are setting values always behaves as a copy.\n",
            "\n",
            "For example, when doing 'df[col].method(value, inplace=True)', try using 'df.method({col: value}, inplace=True)' or df[col] = df[col].method(value) instead, to perform the operation inplace on the original object.\n",
            "\n",
            "\n",
            "  df['Kota Tinggal'].fillna(modus_kota, inplace=True)\n",
            "<ipython-input-13-5d7f2fc63228>:29: FutureWarning: A value is trying to be set on a copy of a DataFrame or Series through chained assignment using an inplace method.\n",
            "The behavior will change in pandas 3.0. This inplace method will never work because the intermediate object on which we are setting values always behaves as a copy.\n",
            "\n",
            "For example, when doing 'df[col].method(value, inplace=True)', try using 'df.method({col: value}, inplace=True)' or df[col] = df[col].method(value) instead, to perform the operation inplace on the original object.\n",
            "\n",
            "\n",
            "  df['Pendapatan (juta)'].fillna(median_pendapatan, inplace=True)\n",
            "<ipython-input-13-5d7f2fc63228>:33: FutureWarning: A value is trying to be set on a copy of a DataFrame or Series through chained assignment using an inplace method.\n",
            "The behavior will change in pandas 3.0. This inplace method will never work because the intermediate object on which we are setting values always behaves as a copy.\n",
            "\n",
            "For example, when doing 'df[col].method(value, inplace=True)', try using 'df.method({col: value}, inplace=True)' or df[col] = df[col].method(value) instead, to perform the operation inplace on the original object.\n",
            "\n",
            "\n",
            "  df['Status Member'].fillna(modus_member, inplace=True)\n"
          ]
        }
      ],
      "source": [
        "# --- 2. Menangani Missing Values dan Inkonsistensi Awal ---\n",
        "\n",
        "# 2.1 Mengidentifikasi dan Mengganti Nilai 'Tidak Valid' dengan NaN\n",
        "# Kolom 'Usia', 'Pendapatan (juta)', dan 'Status Member' memiliki '-' sebagai missing value\n",
        "df.replace('-', np.nan, inplace=True)\n",
        "\n",
        "print(\"--- Setelah Mengganti '-' dengan NaN ---\")\n",
        "print(df)\n",
        "print(\"\\n\" + \"=\"*40 + \"\\n\")\n",
        "\n",
        "# 2.2 Mengecek Missing Values\n",
        "print(\"--- Jumlah Missing Values di Setiap Kolom ---\")\n",
        "print(df.isnull().sum())\n",
        "print(\"\\n\" + \"=\"*40 + \"\\n\")\n",
        "\n",
        "# 2.3 Mengisi Missing Values\n",
        "# Kolom 'Usia': Numerik, kita bisa pakai median karena lebih tahan terhadap outlier\n",
        "df['Usia'] = pd.to_numeric(df['Usia']) # Pastikan kolom menjadi numerik sebelum mengisi\n",
        "median_usia = df['Usia'].median()\n",
        "df['Usia'].fillna(median_usia, inplace=True)\n",
        "\n",
        "# Kolom 'Kota Tinggal': Kategorikal, kita bisa pakai modus (nilai paling sering muncul)\n",
        "modus_kota = df['Kota Tinggal'].mode()[0] # .mode() bisa mengembalikan beberapa modus, ambil yang pertama\n",
        "df['Kota Tinggal'].fillna(modus_kota, inplace=True)\n",
        "\n",
        "# Kolom 'Pendapatan (juta)': Numerik, kita pakai median\n",
        "df['Pendapatan (juta)'] = pd.to_numeric(df['Pendapatan (juta)'])\n",
        "median_pendapatan = df['Pendapatan (juta)'].median()\n",
        "df['Pendapatan (juta)'].fillna(median_pendapatan, inplace=True)\n",
        "\n",
        "# Kolom 'Status Member': Kategorikal, kita bisa pakai modus\n",
        "modus_member = df['Status Member'].mode()[0]\n",
        "df['Status Member'].fillna(modus_member, inplace=True)\n",
        "\n",
        "\n",
        "print(\"--- Setelah Mengisi Missing Values ---\")\n",
        "print(df)\n",
        "print(\"\\n\" + \"=\"*40 + \"\\n\")\n",
        "\n",
        "# --- 3. Mengatasi Inkonsistensi Data (Standardisasi Teks) ---\n",
        "# Kolom 'Kota Tinggal': Mengubah semua menjadi huruf kapital di awal kata (Title Case)\n",
        "df['Kota Tinggal'] = df['Kota Tinggal'].str.title()\n",
        "\n",
        "print(\"--- Setelah Standardisasi 'Kota Tinggal' ---\")\n",
        "print(df)\n",
        "print(\"\\n\" + \"=\"*40 + \"\\n\")\n",
        "\n",
        "# --- 4. Menghapus Duplikasi Data ---\n",
        "# Mengecek duplikasi (kecuali kolom ID, karena ID Pelanggan unik)\n",
        "# Kita anggap duplikasi adalah jika Nama, Usia, Kota Tinggal, Pendapatan, dan Status Member sama\n",
        "df_cleaned = df.drop_duplicates(subset=['Nama', 'Usia', 'Kota Tinggal', 'Pendapatan (juta)', 'Status Member'])\n",
        "\n",
        "# Untuk kasus ini, ID 1 dan ID 5 adalah duplikat sempurna, kita ingin mempertahankan satu saja.\n",
        "# drop_duplicates secara default mempertahankan baris pertama yang ditemukannya.\n",
        "# Karena ID Pelanggan 1 dan 5 memiliki nilai yang sama di semua kolom relevan,\n",
        "# baris dengan ID 5 akan dihapus jika kita menghapus duplikat berdasarkan semua kolom kecuali ID.\n",
        "# Atau, jika kita ingin mempertahankan ID yang berbeda, kita bisa menggunakan .drop_duplicates(subset=[kolom-lainnya])\n",
        "# Mari kita lihat hasilnya dengan drop_duplicates sederhana yang melihat semua kolom\n",
        "df_cleaned = df.drop_duplicates()\n",
        "\n",
        "\n",
        "print(\"--- Setelah Menghapus Duplikasi ---\")\n",
        "print(df_cleaned)\n",
        "print(\"\\n\" + \"=\"*40 + \"\\n\")\n",
        "\n",
        "# --- 5. Ringkasan Akhir ---\n",
        "print(\"--- Dataframe Akhir Setelah Cleaning ---\")\n",
        "print(df_cleaned)\n",
        "print(\"\\nJumlah baris setelah cleaning:\", len(df_cleaned))\n",
        "print(\"Jumlah missing values setelah cleaning:\\n\", df_cleaned.isnull().sum())"
      ]
    },
    {
      "cell_type": "code",
      "source": [
        "# Kolom 'Kota Tinggal' memiliki 'jakarta' dan 'Jakarta'. Ini inkonsisten.\n",
        "# Kita akan menstandarisasi menjadi format yang seragam (misalnya, Capitalized/Title Case)\n",
        "df['Kota Tinggal'] = df['Kota Tinggal'].str.title()\n",
        "\n",
        "print(\"\\n--- Setelah Standardisasi 'Kota Tinggal' (Title Case) ---\")\n",
        "print(df)"
      ],
      "metadata": {
        "colab": {
          "base_uri": "https://localhost:8080/"
        },
        "id": "rBZiug3a_sgC",
        "outputId": "8c09e4d2-cbca-411c-f021-46570b0671a4"
      },
      "execution_count": 14,
      "outputs": [
        {
          "output_type": "stream",
          "name": "stdout",
          "text": [
            "\n",
            "--- Setelah Standardisasi 'Kota Tinggal' (Title Case) ---\n",
            "   ID Pelanggan  Nama  Usia Kota Tinggal  Pendapatan (juta) Status Member\n",
            "0             1  Budi  28.0      Jakarta               5.50       Premium\n",
            "1             2   Ana  29.0      Jakarta               6.00       Reguler\n",
            "2             3  Cici  35.0      Bandung               7.25       Premium\n",
            "3             4  Didi  22.0      Jakarta               4.00       Premium\n",
            "4             5  Budi  28.0      Jakarta               5.50       Premium\n",
            "5             6   Eka  40.0      Jakarta              12.00       Premium\n",
            "6             7  Fafa  29.0     Surabaya               6.00       Reguler\n",
            "7             8   Ana  30.0        Medan               6.50       Reguler\n"
          ]
        }
      ]
    },
    {
      "cell_type": "code",
      "source": [
        "# Sebelum menghapus, mari kita lihat apakah ada duplikasi\n",
        "print(\"\\n--- Jumlah Baris Sebelum Menghapus Duplikasi ---\")\n",
        "print(len(df))\n",
        "\n",
        "# Menghapus duplikasi. Secara default, Pandas akan mempertahankan baris pertama yang ditemukan.\n",
        "# ID Pelanggan 1 dan 5 memiliki data yang sama persis di kolom lain\n",
        "df_cleaned = df.drop_duplicates(subset=['Nama', 'Usia', 'Kota Tinggal', 'Pendapatan (juta)', 'Status Member'])\n",
        "\n",
        "print(\"\\n--- Setelah Menghapus Duplikasi ---\")\n",
        "print(df_cleaned)\n",
        "print(\"\\n--- Jumlah Baris Setelah Menghapus Duplikasi ---\")\n",
        "print(len(df_cleaned))"
      ],
      "metadata": {
        "colab": {
          "base_uri": "https://localhost:8080/"
        },
        "id": "NezQod8tVO51",
        "outputId": "17216c27-a4c3-40d7-a3a3-9b276adabb18"
      },
      "execution_count": 17,
      "outputs": [
        {
          "output_type": "stream",
          "name": "stdout",
          "text": [
            "\n",
            "--- Jumlah Baris Sebelum Menghapus Duplikasi ---\n",
            "8\n",
            "\n",
            "--- Setelah Menghapus Duplikasi ---\n",
            "   ID Pelanggan  Nama  Usia Kota Tinggal  Pendapatan (juta) Status Member\n",
            "0             1  Budi  28.0      Jakarta               5.50       Premium\n",
            "1             2   Ana  29.0      Jakarta               6.00       Reguler\n",
            "2             3  Cici  35.0      Bandung               7.25       Premium\n",
            "3             4  Didi  22.0      Jakarta               4.00       Premium\n",
            "5             6   Eka  40.0      Jakarta              12.00       Premium\n",
            "6             7  Fafa  29.0     Surabaya               6.00       Reguler\n",
            "7             8   Ana  30.0        Medan               6.50       Reguler\n",
            "\n",
            "--- Jumlah Baris Setelah Menghapus Duplikasi ---\n",
            "7\n"
          ]
        }
      ]
    },
    {
      "cell_type": "code",
      "source": [
        "print(\"\\n--- Final DataFrame Setelah Data Cleaning ---\")\n",
        "print(df_cleaned)\n",
        "print(\"\\nJumlah Missing Values (Final):\\n\", df_cleaned.isnull().sum())"
      ],
      "metadata": {
        "colab": {
          "base_uri": "https://localhost:8080/"
        },
        "id": "LCW80tKPYACU",
        "outputId": "4f84861c-6dc3-4749-d185-9acc4a7695eb"
      },
      "execution_count": 18,
      "outputs": [
        {
          "output_type": "stream",
          "name": "stdout",
          "text": [
            "\n",
            "--- Final DataFrame Setelah Data Cleaning ---\n",
            "   ID Pelanggan  Nama  Usia Kota Tinggal  Pendapatan (juta) Status Member\n",
            "0             1  Budi  28.0      Jakarta               5.50       Premium\n",
            "1             2   Ana  29.0      Jakarta               6.00       Reguler\n",
            "2             3  Cici  35.0      Bandung               7.25       Premium\n",
            "3             4  Didi  22.0      Jakarta               4.00       Premium\n",
            "5             6   Eka  40.0      Jakarta              12.00       Premium\n",
            "6             7  Fafa  29.0     Surabaya               6.00       Reguler\n",
            "7             8   Ana  30.0        Medan               6.50       Reguler\n",
            "\n",
            "Jumlah Missing Values (Final):\n",
            " ID Pelanggan         0\n",
            "Nama                 0\n",
            "Usia                 0\n",
            "Kota Tinggal         0\n",
            "Pendapatan (juta)    0\n",
            "Status Member        0\n",
            "dtype: int64\n"
          ]
        }
      ]
    }
  ]
}